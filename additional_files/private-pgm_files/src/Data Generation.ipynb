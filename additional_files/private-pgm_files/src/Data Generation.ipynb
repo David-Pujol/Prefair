{
 "cells": [
  {
   "cell_type": "code",
   "execution_count": 1,
   "metadata": {},
   "outputs": [],
   "source": [
    "import mst as mst\n",
    "import mst_fair_greedy as fairMST\n",
    "import mst_fair_optimal as fairMSTOpt\n",
    "import numpy as np\n",
    "from mbi import FactoredInference, Dataset, Domain\n",
    "import scipy\n",
    "from disjoint_set import DisjointSet\n",
    "import networkx as nx\n",
    "import itertools\n",
    "from cdp2adp import cdp_rho\n",
    "from scipy.special import logsumexp\n",
    "import argparse\n",
    "import heapq\n",
    "import timeit"
   ]
  },
  {
   "cell_type": "code",
   "execution_count": 8,
   "metadata": {},
   "outputs": [],
   "source": [
    "\n",
    "dataset = \"data/adult.csv\"\n",
    "domain = \"data/adult-domain.json\"\n",
    "epsilon = 0.1\n",
    "delta = 1e-9\n",
    "degree = 2 \n",
    "num_marginals = None\n",
    "max_cells = 100000\n",
    "save = \"data/results.csv\"\n",
    "save_fair = \"data/results_fair.csv\"\n",
    "save_fair_opt =\"data/results_fair_opt.csv\"\n",
    "outcome = ['income>50K']\n",
    "#admissible = ['age','workclass','fnlwgt','education-num','marital-status','occupation','relationship','capital-gain','capital-loss','hours-per-week']\n",
    "admissible = ['workclass','fnlwgt','education-num','occupation','capital-gain','capital-loss','hours-per-week']\n",
    "protected = ['race','sex','native-country']\n",
    "data = Dataset.load(dataset, domain)"
   ]
  },
  {
   "cell_type": "code",
   "execution_count": null,
   "metadata": {},
   "outputs": [],
   "source": [
    "# greedy_fair_mst\n",
    "data = Dataset.load(dataset, domain)\n",
    "\n",
    "workload = list(itertools.combinations(data.domain, degree))\n",
    "workload = [cl for cl in workload if data.domain.size(cl) <= max_cells]\n",
    "if num_marginals is not None:\n",
    "    workload = [workload[i] for i in prng.choice(len(workload), num_marginals, replace=False)]\n",
    "\n",
    "#synth = mst.MST(data, epsilon, delta)\n",
    "synth = fairMST.MST(data, epsilon, delta, outcome, admissible)\n",
    "\n",
    "if save is not None:\n",
    "    synth.df.to_csv(save_fair, index=False)\n",
    "\n",
    "errors = []\n",
    "for proj in workload:\n",
    "    X = data.project(proj).datavector()\n",
    "    Y = synth.project(proj).datavector()\n",
    "    e = 0.5*np.linalg.norm(X/X.sum() - Y/Y.sum(), 1)\n",
    "    errors.append(e)\n",
    "print('Average Error: ', np.mean(errors)) "
   ]
  },
  {
   "cell_type": "code",
   "execution_count": null,
   "metadata": {},
   "outputs": [],
   "source": [
    "#fair_mst_optimal\n",
    "data = Dataset.load(dataset, domain)\n",
    "\n",
    "workload = list(itertools.combinations(data.domain, degree))\n",
    "workload = [cl for cl in workload if data.domain.size(cl) <= max_cells]\n",
    "if num_marginals is not None:\n",
    "    workload = [workload[i] for i in prng.choice(len(workload), num_marginals, replace=False)]\n",
    "\n",
    "\n",
    "synth = fairMSTOpt.MST(data, epsilon, delta, outcome, admissible, protected)\n",
    "\n",
    "if save is not None:\n",
    "    synth.df.to_csv(save_fair_opt, index=False)\n",
    "\n",
    "errors = []\n",
    "for proj in workload:\n",
    "    X = data.project(proj).datavector()\n",
    "    Y = synth.project(proj).datavector()\n",
    "    e = 0.5*np.linalg.norm(X/X.sum() - Y/Y.sum(), 1)\n",
    "    errors.append(e)\n",
    "print('Average Error: ', np.mean(errors)) "
   ]
  },
  {
   "cell_type": "code",
   "execution_count": null,
   "metadata": {},
   "outputs": [],
   "source": [
    "#original MST\n",
    "data = Dataset.load(dataset, domain)\n",
    "\n",
    "workload = list(itertools.combinations(data.domain, degree))\n",
    "workload = [cl for cl in workload if data.domain.size(cl) <= max_cells]\n",
    "if num_marginals is not None:\n",
    "    workload = [workload[i] for i in prng.choice(len(workload), num_marginals, replace=False)]\n",
    "\n",
    "synth = mst.MST(data, epsilon, delta)\n",
    "#synth = fairMST.MST(data, epsilon, delta, outcome, admissible)\n",
    "\n",
    "if save is not None:\n",
    "    synth.df.to_csv(save, index=False)\n",
    "\n",
    "errors = []\n",
    "for proj in workload:\n",
    "    X = data.project(proj).datavector()\n",
    "    Y = synth.project(proj).datavector()\n",
    "    e = 0.5*np.linalg.norm(X/X.sum() - Y/Y.sum(), 1)\n",
    "    errors.append(e)\n",
    "print('Average Error: ', np.mean(errors)) "
   ]
  },
  {
   "cell_type": "markdown",
   "metadata": {},
   "source": [
    "## Testing over 10 runs to compare error"
   ]
  },
  {
   "cell_type": "code",
   "execution_count": null,
   "metadata": {},
   "outputs": [],
   "source": [
    "data = Dataset.load(dataset, domain)\n",
    "workload = list(itertools.combinations(data.domain, degree))\n",
    "workload = [cl for cl in workload if data.domain.size(cl) <= max_cells]\n",
    "if num_marginals is not None:\n",
    "    workload = [workload[i] for i in prng.choice(len(workload), num_marginals, replace=False)] "
   ]
  },
  {
   "cell_type": "code",
   "execution_count": null,
   "metadata": {},
   "outputs": [],
   "source": [
    "\n",
    "fair_greedy_adult_times= []\n",
    "for i in range(10):\n",
    "    start_time = timeit.default_timer()\n",
    "    synth = fairMST.MST(data, epsilon, delta, outcome, admissible)\n",
    "    #synth.df.to_csv(\"data/fair_greedy/results_greedy_\" + str(i) + \".csv\", index=False)\n",
    "    elapsed = timeit.default_timer() - start_time\n",
    "    fair_opt_adult_times.append(elapsed)"
   ]
  },
  {
   "cell_type": "code",
   "execution_count": null,
   "metadata": {},
   "outputs": [],
   "source": [
    "fair_opt_adult_times= []\n",
    "for i in range(10):\n",
    "    start_time = timeit.default_timer()\n",
    "    synth = fairMSTOpt.MST(data, epsilon, delta, outcome, admissible, protected)\n",
    "    #synth.df.to_csv(\"data/fair_opt/results_opt_\" + str(i) + \".csv\", index=False)\n",
    "    elapsed = timeit.default_timer() - start_time\n",
    "    fair_opt_adult_times.append(elapsed)"
   ]
  },
  {
   "cell_type": "code",
   "execution_count": null,
   "metadata": {},
   "outputs": [],
   "source": [
    "mst_adult_times = []\n",
    "for i in range(10):\n",
    "    start_time = timeit.default_timer()\n",
    "    synth = mst.MST(data, epsilon, delta)\n",
    "    #synth.df.to_csv(\"data/original/results_original_\" + str(i) + \".csv\", index=False)\n",
    "    elapsed = timeit.default_timer() - start_time\n",
    "    fair_opt_adult_times.append(elapsed)"
   ]
  },
  {
   "cell_type": "code",
   "execution_count": null,
   "metadata": {},
   "outputs": [],
   "source": [
    "fair_opt_errors = []\n",
    "for i in range(10):\n",
    "    synth = fairMSTOpt.MST(data, 1, delta, outcome, admissible, protected)\n",
    "    synth.df.to_csv(\"data/fair_opt/eps=1/results_opt_\" + str(i) + \".csv\", index=False)"
   ]
  },
  {
   "cell_type": "code",
   "execution_count": null,
   "metadata": {},
   "outputs": [],
   "source": [
    "fair_opt_errors = []\n",
    "for i in range(10):\n",
    "    synth = fairMSTOpt.MST(data, 10, delta, outcome, admissible, protected)\n",
    "    synth.df.to_csv(\"data/fair_opt/eps=10/results_opt_\" + str(i) + \".csv\", index=False)"
   ]
  },
  {
   "cell_type": "code",
   "execution_count": null,
   "metadata": {},
   "outputs": [],
   "source": [
    "fair_opt_errors = []\n",
    "for i in range(10):\n",
    "    synth = fairMSTOpt.MST(data, 0.1, delta, outcome, admissible, protected)\n",
    "    synth.df.to_csv(\"data/fair_opt/eps=0.1/results_opt_\" + str(i) + \".csv\", index=False)"
   ]
  },
  {
   "cell_type": "markdown",
   "metadata": {},
   "source": [
    "# Aditional Experiments"
   ]
  },
  {
   "cell_type": "markdown",
   "metadata": {},
   "source": [
    "## Super High epislon"
   ]
  },
  {
   "cell_type": "code",
   "execution_count": 3,
   "metadata": {},
   "outputs": [],
   "source": [
    "data = Dataset.load(dataset, domain)\n",
    "workload = list(itertools.combinations(data.domain, degree))\n",
    "workload = [cl for cl in workload if data.domain.size(cl) <= max_cells]\n",
    "if num_marginals is not None:\n",
    "    workload = [workload[i] for i in prng.choice(len(workload), num_marginals, replace=False)] "
   ]
  },
  {
   "cell_type": "code",
   "execution_count": 7,
   "metadata": {},
   "outputs": [
    {
     "name": "stdout",
     "output_type": "stream",
     "text": [
      "1000\n",
      "100\n",
      "10\n"
     ]
    },
    {
     "ename": "KeyboardInterrupt",
     "evalue": "",
     "output_type": "error",
     "traceback": [
      "\u001b[0;31m---------------------------------------------------------------------------\u001b[0m",
      "\u001b[0;31mKeyboardInterrupt\u001b[0m                         Traceback (most recent call last)",
      "\u001b[0;32m<ipython-input-7-a0a32aa8b983>\u001b[0m in \u001b[0;36m<module>\u001b[0;34m\u001b[0m\n\u001b[1;32m      5\u001b[0m         \u001b[0msynth\u001b[0m \u001b[0;34m=\u001b[0m \u001b[0mfairMST\u001b[0m\u001b[0;34m.\u001b[0m\u001b[0mMST\u001b[0m\u001b[0;34m(\u001b[0m\u001b[0mdata\u001b[0m\u001b[0;34m,\u001b[0m \u001b[0me\u001b[0m\u001b[0;34m,\u001b[0m \u001b[0mdelta\u001b[0m\u001b[0;34m,\u001b[0m \u001b[0moutcome\u001b[0m\u001b[0;34m,\u001b[0m \u001b[0madmissible\u001b[0m\u001b[0;34m)\u001b[0m\u001b[0;34m\u001b[0m\u001b[0;34m\u001b[0m\u001b[0m\n\u001b[1;32m      6\u001b[0m         \u001b[0msynth\u001b[0m\u001b[0;34m.\u001b[0m\u001b[0mdf\u001b[0m\u001b[0;34m.\u001b[0m\u001b[0mto_csv\u001b[0m\u001b[0;34m(\u001b[0m\u001b[0;34m\"data/fair_greedy/eps=\"\u001b[0m \u001b[0;34m+\u001b[0m\u001b[0mstr\u001b[0m\u001b[0;34m(\u001b[0m\u001b[0me\u001b[0m\u001b[0;34m)\u001b[0m\u001b[0;34m+\u001b[0m\u001b[0;34m\"/results_greedy_\"\u001b[0m \u001b[0;34m+\u001b[0m \u001b[0mstr\u001b[0m\u001b[0;34m(\u001b[0m\u001b[0mi\u001b[0m\u001b[0;34m)\u001b[0m \u001b[0;34m+\u001b[0m \u001b[0;34m\".csv\"\u001b[0m\u001b[0;34m,\u001b[0m \u001b[0mindex\u001b[0m\u001b[0;34m=\u001b[0m\u001b[0;32mFalse\u001b[0m\u001b[0;34m)\u001b[0m\u001b[0;34m\u001b[0m\u001b[0;34m\u001b[0m\u001b[0m\n\u001b[0;32m----> 7\u001b[0;31m         \u001b[0msynth\u001b[0m \u001b[0;34m=\u001b[0m \u001b[0mmst\u001b[0m\u001b[0;34m.\u001b[0m\u001b[0mMST\u001b[0m\u001b[0;34m(\u001b[0m\u001b[0mdata\u001b[0m\u001b[0;34m,\u001b[0m \u001b[0me\u001b[0m\u001b[0;34m,\u001b[0m \u001b[0mdelta\u001b[0m\u001b[0;34m)\u001b[0m\u001b[0;34m\u001b[0m\u001b[0;34m\u001b[0m\u001b[0m\n\u001b[0m\u001b[1;32m      8\u001b[0m         \u001b[0msynth\u001b[0m\u001b[0;34m.\u001b[0m\u001b[0mdf\u001b[0m\u001b[0;34m.\u001b[0m\u001b[0mto_csv\u001b[0m\u001b[0;34m(\u001b[0m\u001b[0;34m\"data/original/eps=\"\u001b[0m \u001b[0;34m+\u001b[0m\u001b[0mstr\u001b[0m\u001b[0;34m(\u001b[0m\u001b[0me\u001b[0m\u001b[0;34m)\u001b[0m\u001b[0;34m+\u001b[0m\u001b[0;34m\"/results_original_\"\u001b[0m \u001b[0;34m+\u001b[0m \u001b[0mstr\u001b[0m\u001b[0;34m(\u001b[0m\u001b[0mi\u001b[0m\u001b[0;34m)\u001b[0m \u001b[0;34m+\u001b[0m \u001b[0;34m\".csv\"\u001b[0m\u001b[0;34m,\u001b[0m \u001b[0mindex\u001b[0m\u001b[0;34m=\u001b[0m\u001b[0;32mFalse\u001b[0m\u001b[0;34m)\u001b[0m\u001b[0;34m\u001b[0m\u001b[0;34m\u001b[0m\u001b[0m\n\u001b[1;32m      9\u001b[0m         \u001b[0msynth\u001b[0m \u001b[0;34m=\u001b[0m \u001b[0mfairMSTOpt\u001b[0m\u001b[0;34m.\u001b[0m\u001b[0mMST\u001b[0m\u001b[0;34m(\u001b[0m\u001b[0mdata\u001b[0m\u001b[0;34m,\u001b[0m \u001b[0me\u001b[0m\u001b[0;34m,\u001b[0m \u001b[0mdelta\u001b[0m\u001b[0;34m,\u001b[0m \u001b[0moutcome\u001b[0m\u001b[0;34m,\u001b[0m \u001b[0madmissible\u001b[0m\u001b[0;34m,\u001b[0m \u001b[0mprotected\u001b[0m\u001b[0;34m)\u001b[0m\u001b[0;34m\u001b[0m\u001b[0;34m\u001b[0m\u001b[0m\n",
      "\u001b[0;32m~/privbayes/private-pgm/src/mst.py\u001b[0m in \u001b[0;36mMST\u001b[0;34m(data, epsilon, delta)\u001b[0m\n\u001b[1;32m     26\u001b[0m     \u001b[0mlog2\u001b[0m \u001b[0;34m=\u001b[0m \u001b[0mmeasure\u001b[0m\u001b[0;34m(\u001b[0m\u001b[0mdata\u001b[0m\u001b[0;34m,\u001b[0m \u001b[0mcliques\u001b[0m\u001b[0;34m,\u001b[0m \u001b[0msigma\u001b[0m\u001b[0;34m)\u001b[0m\u001b[0;34m\u001b[0m\u001b[0;34m\u001b[0m\u001b[0m\n\u001b[1;32m     27\u001b[0m     \u001b[0mengine\u001b[0m \u001b[0;34m=\u001b[0m \u001b[0mFactoredInference\u001b[0m\u001b[0;34m(\u001b[0m\u001b[0mdata\u001b[0m\u001b[0;34m.\u001b[0m\u001b[0mdomain\u001b[0m\u001b[0;34m,\u001b[0m \u001b[0miters\u001b[0m\u001b[0;34m=\u001b[0m\u001b[0;36m5000\u001b[0m\u001b[0;34m)\u001b[0m\u001b[0;34m\u001b[0m\u001b[0;34m\u001b[0m\u001b[0m\n\u001b[0;32m---> 28\u001b[0;31m     \u001b[0mest\u001b[0m \u001b[0;34m=\u001b[0m \u001b[0mengine\u001b[0m\u001b[0;34m.\u001b[0m\u001b[0mestimate\u001b[0m\u001b[0;34m(\u001b[0m\u001b[0mlog1\u001b[0m\u001b[0;34m+\u001b[0m\u001b[0mlog2\u001b[0m\u001b[0;34m)\u001b[0m\u001b[0;34m\u001b[0m\u001b[0;34m\u001b[0m\u001b[0m\n\u001b[0m\u001b[1;32m     29\u001b[0m     \u001b[0msynth\u001b[0m \u001b[0;34m=\u001b[0m \u001b[0mest\u001b[0m\u001b[0;34m.\u001b[0m\u001b[0msynthetic_data\u001b[0m\u001b[0;34m(\u001b[0m\u001b[0;34m)\u001b[0m\u001b[0;34m\u001b[0m\u001b[0;34m\u001b[0m\u001b[0m\n\u001b[1;32m     30\u001b[0m     \u001b[0;32mreturn\u001b[0m \u001b[0mundo_compress_fn\u001b[0m\u001b[0;34m(\u001b[0m\u001b[0msynth\u001b[0m\u001b[0;34m)\u001b[0m\u001b[0;34m\u001b[0m\u001b[0;34m\u001b[0m\u001b[0m\n",
      "\u001b[0;32m~/privbayes/private-pgm/src/mbi/inference.py\u001b[0m in \u001b[0;36mestimate\u001b[0;34m(self, measurements, total, engine, callback, options)\u001b[0m\n\u001b[1;32m     73\u001b[0m             \u001b[0moptions\u001b[0m\u001b[0;34m[\u001b[0m\u001b[0;34m'callback'\u001b[0m\u001b[0;34m]\u001b[0m \u001b[0;34m=\u001b[0m \u001b[0mcallbacks\u001b[0m\u001b[0;34m.\u001b[0m\u001b[0mLogger\u001b[0m\u001b[0;34m(\u001b[0m\u001b[0mself\u001b[0m\u001b[0;34m)\u001b[0m\u001b[0;34m\u001b[0m\u001b[0;34m\u001b[0m\u001b[0m\n\u001b[1;32m     74\u001b[0m         \u001b[0;32mif\u001b[0m \u001b[0mengine\u001b[0m \u001b[0;34m==\u001b[0m \u001b[0;34m'MD'\u001b[0m\u001b[0;34m:\u001b[0m\u001b[0;34m\u001b[0m\u001b[0;34m\u001b[0m\u001b[0m\n\u001b[0;32m---> 75\u001b[0;31m             \u001b[0mself\u001b[0m\u001b[0;34m.\u001b[0m\u001b[0mmirror_descent\u001b[0m\u001b[0;34m(\u001b[0m\u001b[0mmeasurements\u001b[0m\u001b[0;34m,\u001b[0m \u001b[0mtotal\u001b[0m\u001b[0;34m,\u001b[0m \u001b[0;34m**\u001b[0m\u001b[0moptions\u001b[0m\u001b[0;34m)\u001b[0m\u001b[0;34m\u001b[0m\u001b[0;34m\u001b[0m\u001b[0m\n\u001b[0m\u001b[1;32m     76\u001b[0m         \u001b[0;32melif\u001b[0m \u001b[0mengine\u001b[0m \u001b[0;34m==\u001b[0m \u001b[0;34m'RDA'\u001b[0m\u001b[0;34m:\u001b[0m\u001b[0;34m\u001b[0m\u001b[0;34m\u001b[0m\u001b[0m\n\u001b[1;32m     77\u001b[0m             \u001b[0mself\u001b[0m\u001b[0;34m.\u001b[0m\u001b[0mdual_averaging\u001b[0m\u001b[0;34m(\u001b[0m\u001b[0mmeasurements\u001b[0m\u001b[0;34m,\u001b[0m \u001b[0mtotal\u001b[0m\u001b[0;34m,\u001b[0m \u001b[0;34m**\u001b[0m\u001b[0moptions\u001b[0m\u001b[0;34m)\u001b[0m\u001b[0;34m\u001b[0m\u001b[0;34m\u001b[0m\u001b[0m\n",
      "\u001b[0;32m~/privbayes/private-pgm/src/mbi/inference.py\u001b[0m in \u001b[0;36mmirror_descent\u001b[0;34m(self, measurements, total, stepsize, callback)\u001b[0m\n\u001b[1;32m    234\u001b[0m             \u001b[0;32mfor\u001b[0m \u001b[0mi\u001b[0m \u001b[0;32min\u001b[0m \u001b[0mrange\u001b[0m\u001b[0;34m(\u001b[0m\u001b[0;36m25\u001b[0m\u001b[0;34m)\u001b[0m\u001b[0;34m:\u001b[0m\u001b[0;34m\u001b[0m\u001b[0;34m\u001b[0m\u001b[0m\n\u001b[1;32m    235\u001b[0m                 \u001b[0mtheta\u001b[0m \u001b[0;34m=\u001b[0m \u001b[0momega\u001b[0m \u001b[0;34m-\u001b[0m \u001b[0malpha\u001b[0m\u001b[0;34m*\u001b[0m\u001b[0mdL\u001b[0m\u001b[0;34m\u001b[0m\u001b[0;34m\u001b[0m\u001b[0m\n\u001b[0;32m--> 236\u001b[0;31m                 \u001b[0mmu\u001b[0m \u001b[0;34m=\u001b[0m \u001b[0mmodel\u001b[0m\u001b[0;34m.\u001b[0m\u001b[0mbelief_propagation\u001b[0m\u001b[0;34m(\u001b[0m\u001b[0mtheta\u001b[0m\u001b[0;34m)\u001b[0m\u001b[0;34m\u001b[0m\u001b[0;34m\u001b[0m\u001b[0m\n\u001b[0m\u001b[1;32m    237\u001b[0m                 \u001b[0mans\u001b[0m \u001b[0;34m=\u001b[0m \u001b[0mself\u001b[0m\u001b[0;34m.\u001b[0m\u001b[0m_marginal_loss\u001b[0m\u001b[0;34m(\u001b[0m\u001b[0mmu\u001b[0m\u001b[0;34m)\u001b[0m\u001b[0;34m\u001b[0m\u001b[0;34m\u001b[0m\u001b[0m\n\u001b[1;32m    238\u001b[0m                 \u001b[0;32mif\u001b[0m \u001b[0mnols\u001b[0m \u001b[0;32mor\u001b[0m \u001b[0mcurr_loss\u001b[0m \u001b[0;34m-\u001b[0m \u001b[0mans\u001b[0m\u001b[0;34m[\u001b[0m\u001b[0;36m0\u001b[0m\u001b[0;34m]\u001b[0m \u001b[0;34m>=\u001b[0m \u001b[0;36m0.5\u001b[0m\u001b[0;34m*\u001b[0m\u001b[0malpha\u001b[0m\u001b[0;34m*\u001b[0m\u001b[0mdL\u001b[0m\u001b[0;34m.\u001b[0m\u001b[0mdot\u001b[0m\u001b[0;34m(\u001b[0m\u001b[0mnu\u001b[0m\u001b[0;34m-\u001b[0m\u001b[0mmu\u001b[0m\u001b[0;34m)\u001b[0m\u001b[0;34m:\u001b[0m\u001b[0;34m\u001b[0m\u001b[0;34m\u001b[0m\u001b[0m\n",
      "\u001b[0;32m~/privbayes/private-pgm/src/mbi/graphical_model.py\u001b[0m in \u001b[0;36mbelief_propagation\u001b[0;34m(self, potentials, logZ)\u001b[0m\n\u001b[1;32m    164\u001b[0m                 \u001b[0mtau\u001b[0m \u001b[0;34m=\u001b[0m \u001b[0mbeliefs\u001b[0m\u001b[0;34m[\u001b[0m\u001b[0mi\u001b[0m\u001b[0;34m]\u001b[0m\u001b[0;34m\u001b[0m\u001b[0;34m\u001b[0m\u001b[0m\n\u001b[1;32m    165\u001b[0m             \u001b[0mmessages\u001b[0m\u001b[0;34m[\u001b[0m\u001b[0;34m(\u001b[0m\u001b[0mi\u001b[0m\u001b[0;34m,\u001b[0m\u001b[0mj\u001b[0m\u001b[0;34m)\u001b[0m\u001b[0;34m]\u001b[0m \u001b[0;34m=\u001b[0m \u001b[0mtau\u001b[0m\u001b[0;34m.\u001b[0m\u001b[0mlogsumexp\u001b[0m\u001b[0;34m(\u001b[0m\u001b[0msep\u001b[0m\u001b[0;34m)\u001b[0m\u001b[0;34m\u001b[0m\u001b[0;34m\u001b[0m\u001b[0m\n\u001b[0;32m--> 166\u001b[0;31m             \u001b[0mbeliefs\u001b[0m\u001b[0;34m[\u001b[0m\u001b[0mj\u001b[0m\u001b[0;34m]\u001b[0m \u001b[0;34m+=\u001b[0m \u001b[0mmessages\u001b[0m\u001b[0;34m[\u001b[0m\u001b[0;34m(\u001b[0m\u001b[0mi\u001b[0m\u001b[0;34m,\u001b[0m\u001b[0mj\u001b[0m\u001b[0;34m)\u001b[0m\u001b[0;34m]\u001b[0m\u001b[0;34m\u001b[0m\u001b[0;34m\u001b[0m\u001b[0m\n\u001b[0m\u001b[1;32m    167\u001b[0m \u001b[0;34m\u001b[0m\u001b[0m\n\u001b[1;32m    168\u001b[0m         \u001b[0mcl\u001b[0m \u001b[0;34m=\u001b[0m \u001b[0mself\u001b[0m\u001b[0;34m.\u001b[0m\u001b[0mcliques\u001b[0m\u001b[0;34m[\u001b[0m\u001b[0;36m0\u001b[0m\u001b[0;34m]\u001b[0m\u001b[0;34m\u001b[0m\u001b[0;34m\u001b[0m\u001b[0m\n",
      "\u001b[0;32m~/privbayes/private-pgm/src/mbi/factor.py\u001b[0m in \u001b[0;36m__iadd__\u001b[0;34m(self, other)\u001b[0m\n\u001b[1;32m    141\u001b[0m             \u001b[0mself\u001b[0m\u001b[0;34m.\u001b[0m\u001b[0mvalues\u001b[0m \u001b[0;34m+=\u001b[0m \u001b[0mother\u001b[0m\u001b[0;34m\u001b[0m\u001b[0;34m\u001b[0m\u001b[0m\n\u001b[1;32m    142\u001b[0m             \u001b[0;32mreturn\u001b[0m \u001b[0mself\u001b[0m\u001b[0;34m\u001b[0m\u001b[0;34m\u001b[0m\u001b[0m\n\u001b[0;32m--> 143\u001b[0;31m         \u001b[0mfactor2\u001b[0m \u001b[0;34m=\u001b[0m \u001b[0mother\u001b[0m\u001b[0;34m.\u001b[0m\u001b[0mexpand\u001b[0m\u001b[0;34m(\u001b[0m\u001b[0mself\u001b[0m\u001b[0;34m.\u001b[0m\u001b[0mdomain\u001b[0m\u001b[0;34m)\u001b[0m\u001b[0;34m\u001b[0m\u001b[0;34m\u001b[0m\u001b[0m\n\u001b[0m\u001b[1;32m    144\u001b[0m         \u001b[0mself\u001b[0m\u001b[0;34m.\u001b[0m\u001b[0mvalues\u001b[0m \u001b[0;34m+=\u001b[0m \u001b[0mfactor2\u001b[0m\u001b[0;34m.\u001b[0m\u001b[0mvalues\u001b[0m\u001b[0;34m\u001b[0m\u001b[0;34m\u001b[0m\u001b[0m\n\u001b[1;32m    145\u001b[0m         \u001b[0;32mreturn\u001b[0m \u001b[0mself\u001b[0m\u001b[0;34m\u001b[0m\u001b[0;34m\u001b[0m\u001b[0m\n",
      "\u001b[0;32m~/privbayes/private-pgm/src/mbi/factor.py\u001b[0m in \u001b[0;36mexpand\u001b[0;34m(self, domain)\u001b[0m\n\u001b[1;32m     51\u001b[0m         \u001b[0max\u001b[0m \u001b[0;34m=\u001b[0m \u001b[0mdomain\u001b[0m\u001b[0;34m.\u001b[0m\u001b[0maxes\u001b[0m\u001b[0;34m(\u001b[0m\u001b[0mself\u001b[0m\u001b[0;34m.\u001b[0m\u001b[0mdomain\u001b[0m\u001b[0;34m.\u001b[0m\u001b[0mattrs\u001b[0m\u001b[0;34m)\u001b[0m\u001b[0;34m\u001b[0m\u001b[0;34m\u001b[0m\u001b[0m\n\u001b[1;32m     52\u001b[0m         \u001b[0mvalues\u001b[0m \u001b[0;34m=\u001b[0m \u001b[0mnp\u001b[0m\u001b[0;34m.\u001b[0m\u001b[0mmoveaxis\u001b[0m\u001b[0;34m(\u001b[0m\u001b[0mvalues\u001b[0m\u001b[0;34m,\u001b[0m \u001b[0mrange\u001b[0m\u001b[0;34m(\u001b[0m\u001b[0mlen\u001b[0m\u001b[0;34m(\u001b[0m\u001b[0max\u001b[0m\u001b[0;34m)\u001b[0m\u001b[0;34m)\u001b[0m\u001b[0;34m,\u001b[0m \u001b[0max\u001b[0m\u001b[0;34m)\u001b[0m\u001b[0;34m\u001b[0m\u001b[0;34m\u001b[0m\u001b[0m\n\u001b[0;32m---> 53\u001b[0;31m         \u001b[0mvalues\u001b[0m \u001b[0;34m=\u001b[0m \u001b[0mnp\u001b[0m\u001b[0;34m.\u001b[0m\u001b[0mbroadcast_to\u001b[0m\u001b[0;34m(\u001b[0m\u001b[0mvalues\u001b[0m\u001b[0;34m,\u001b[0m \u001b[0mdomain\u001b[0m\u001b[0;34m.\u001b[0m\u001b[0mshape\u001b[0m\u001b[0;34m)\u001b[0m\u001b[0;34m\u001b[0m\u001b[0;34m\u001b[0m\u001b[0m\n\u001b[0m\u001b[1;32m     54\u001b[0m         \u001b[0;32mreturn\u001b[0m \u001b[0mFactor\u001b[0m\u001b[0;34m(\u001b[0m\u001b[0mdomain\u001b[0m\u001b[0;34m,\u001b[0m \u001b[0mvalues\u001b[0m\u001b[0;34m)\u001b[0m\u001b[0;34m\u001b[0m\u001b[0;34m\u001b[0m\u001b[0m\n\u001b[1;32m     55\u001b[0m \u001b[0;34m\u001b[0m\u001b[0m\n",
      "\u001b[0;32m<__array_function__ internals>\u001b[0m in \u001b[0;36mbroadcast_to\u001b[0;34m(*args, **kwargs)\u001b[0m\n",
      "\u001b[0;32m~/.local/lib/python3.8/site-packages/numpy/lib/stride_tricks.py\u001b[0m in \u001b[0;36mbroadcast_to\u001b[0;34m(array, shape, subok)\u001b[0m\n\u001b[1;32m    409\u001b[0m            [1, 2, 3]])\n\u001b[1;32m    410\u001b[0m     \"\"\"\n\u001b[0;32m--> 411\u001b[0;31m     \u001b[0;32mreturn\u001b[0m \u001b[0m_broadcast_to\u001b[0m\u001b[0;34m(\u001b[0m\u001b[0marray\u001b[0m\u001b[0;34m,\u001b[0m \u001b[0mshape\u001b[0m\u001b[0;34m,\u001b[0m \u001b[0msubok\u001b[0m\u001b[0;34m=\u001b[0m\u001b[0msubok\u001b[0m\u001b[0;34m,\u001b[0m \u001b[0mreadonly\u001b[0m\u001b[0;34m=\u001b[0m\u001b[0;32mTrue\u001b[0m\u001b[0;34m)\u001b[0m\u001b[0;34m\u001b[0m\u001b[0;34m\u001b[0m\u001b[0m\n\u001b[0m\u001b[1;32m    412\u001b[0m \u001b[0;34m\u001b[0m\u001b[0m\n\u001b[1;32m    413\u001b[0m \u001b[0;34m\u001b[0m\u001b[0m\n",
      "\u001b[0;32m~/.local/lib/python3.8/site-packages/numpy/lib/stride_tricks.py\u001b[0m in \u001b[0;36m_broadcast_to\u001b[0;34m(array, shape, subok, readonly)\u001b[0m\n\u001b[1;32m    346\u001b[0m                          'negative')\n\u001b[1;32m    347\u001b[0m     \u001b[0mextras\u001b[0m \u001b[0;34m=\u001b[0m \u001b[0;34m[\u001b[0m\u001b[0;34m]\u001b[0m\u001b[0;34m\u001b[0m\u001b[0;34m\u001b[0m\u001b[0m\n\u001b[0;32m--> 348\u001b[0;31m     it = np.nditer(\n\u001b[0m\u001b[1;32m    349\u001b[0m         \u001b[0;34m(\u001b[0m\u001b[0marray\u001b[0m\u001b[0;34m,\u001b[0m\u001b[0;34m)\u001b[0m\u001b[0;34m,\u001b[0m \u001b[0mflags\u001b[0m\u001b[0;34m=\u001b[0m\u001b[0;34m[\u001b[0m\u001b[0;34m'multi_index'\u001b[0m\u001b[0;34m,\u001b[0m \u001b[0;34m'refs_ok'\u001b[0m\u001b[0;34m,\u001b[0m \u001b[0;34m'zerosize_ok'\u001b[0m\u001b[0;34m]\u001b[0m \u001b[0;34m+\u001b[0m \u001b[0mextras\u001b[0m\u001b[0;34m,\u001b[0m\u001b[0;34m\u001b[0m\u001b[0;34m\u001b[0m\u001b[0m\n\u001b[1;32m    350\u001b[0m         op_flags=['readonly'], itershape=shape, order='C')\n",
      "\u001b[0;31mKeyboardInterrupt\u001b[0m: "
     ]
    }
   ],
   "source": [
    "eps = [1000,100,10,1,0.1]\n",
    "for e in eps:\n",
    "    print(str(e))\n",
    "    for i in range(10):\n",
    "        synth = fairMST.MST(data, e, delta, outcome, admissible)\n",
    "        synth.df.to_csv(\"data/fair_greedy/eps=\" +str(e)+\"/results_greedy_\" + str(i) + \".csv\", index=False)\n",
    "        synth = mst.MST(data, e, delta)\n",
    "        synth.df.to_csv(\"data/original/eps=\" +str(e)+\"/results_original_\" + str(i) + \".csv\", index=False)\n",
    "        synth = fairMSTOpt.MST(data, e, delta, outcome, admissible, protected)\n",
    "        synth.df.to_csv(\"data/fair_opt/eps=\" +str(e)+\"/results_opt_\" + str(i) + \".csv\", index=False)\n"
   ]
  },
  {
   "cell_type": "code",
   "execution_count": 4,
   "metadata": {},
   "outputs": [
    {
     "name": "stdout",
     "output_type": "stream",
     "text": [
      "1\n",
      "0.1\n"
     ]
    }
   ],
   "source": [
    "#todo when you get back\n",
    "eps = [1,0.1]\n",
    "for e in eps:\n",
    "    print(str(e))\n",
    "    for i in range(10):\n",
    "        synth = fairMST.MST(data, e, delta, outcome, admissible)\n",
    "        synth.df.to_csv(\"data/fair_greedy/eps=\" +str(e)+\"/results_greedy_\" + str(i) + \".csv\", index=False)\n",
    "        synth = mst.MST(data, e, delta)\n",
    "        synth.df.to_csv(\"data/original/eps=\" +str(e)+\"/results_original_\" + str(i) + \".csv\", index=False)\n",
    "        synth = fairMSTOpt.MST(data, e, delta, outcome, admissible, protected)\n",
    "        synth.df.to_csv(\"data/fair_opt/eps=\" +str(e)+\"/results_opt_\" + str(i) + \".csv\", index=False)\n"
   ]
  },
  {
   "cell_type": "code",
   "execution_count": null,
   "metadata": {},
   "outputs": [],
   "source": [
    "for i in range(10):\n",
    "    print(i)\n",
    "    synth = fairMST.MST(data, 1000000, delta, outcome, admissible)\n",
    "    synth.df.to_csv(\"data/fair_greedy/eps=1000000/results_greedy_\" + str(i) + \".csv\", index=False)"
   ]
  },
  {
   "cell_type": "code",
   "execution_count": null,
   "metadata": {},
   "outputs": [],
   "source": [
    "for i in range(10):\n",
    "    print(i)\n",
    "    synth = fairMSTOpt.MST(data, 1000000, delta, outcome, admissible, protected)\n",
    "    synth.df.to_csv(\"data/fair_opt/eps=1000000/results_opt_\" + str(i) + \".csv\", index=False)"
   ]
  },
  {
   "cell_type": "code",
   "execution_count": null,
   "metadata": {},
   "outputs": [],
   "source": [
    "for i in range(10):\n",
    "    print(i)\n",
    "    synth = mst.MST(data, 1000000, delta)\n",
    "    synth.df.to_csv(\"data/original/eps=1000000/results_original_\" + str(i) + \".csv\", index=False)"
   ]
  },
  {
   "cell_type": "markdown",
   "metadata": {},
   "source": [
    "## Smaller admissible set"
   ]
  },
  {
   "cell_type": "code",
   "execution_count": null,
   "metadata": {},
   "outputs": [],
   "source": [
    "admissible = ['education-num','occupation']\n",
    "protected = ['race','sex','native-country']\n",
    "data = Dataset.load(dataset, domain)\n",
    "eps = [1000000,10,1,0.1]\n",
    "for e in eps:\n",
    "    print(str(e))\n",
    "    for i in range(10):\n",
    "        synth = fairMST.MST(data, e, delta, outcome, admissible)\n",
    "        synth.df.to_csv(\"data/fair_greedy/small_admis/eps=\" +str(e)+\"/results_greedy_\" + str(i) + \".csv\", index=False)\n",
    "        synth = mst.MST(data, e, delta)\n",
    "        synth.df.to_csv(\"data/original/small_admis/eps=\" +str(e)+\"/results_original_\" + str(i) + \".csv\", index=False)\n",
    "        synth = fairMSTOpt.MST(data, e, delta, outcome, admissible, protected)\n",
    "        synth.df.to_csv(\"data/fair_opt/small_admis/eps=\" +str(e)+\"/results_opt_\" + str(i) + \".csv\", index=False)\n"
   ]
  },
  {
   "cell_type": "code",
   "execution_count": null,
   "metadata": {},
   "outputs": [],
   "source": [
    "admissible = ['education-num','occupation']\n",
    "protected = ['race','sex','native-country']\n",
    "data = Dataset.load(dataset, domain)\n",
    "eps = [10,1,0.1]\n",
    "for e in eps:\n",
    "    print(str(e))\n",
    "    for i in range(10):\n",
    "        #synth = fairMST.MST(data, e, delta, outcome, admissible)\n",
    "        #synth.df.to_csv(\"data/fair_greedy/small_admis/eps=\" +str(e)+\"/results_greedy_\" + str(i) + \".csv\", index=False)\n",
    "        #synth = mst.MST(data, e, delta)\n",
    "        #synth.df.to_csv(\"data/original/small_admis/eps=\" +str(e)+\"/results_original_\" + str(i) + \".csv\", index=False)\n",
    "        synth = fairMSTOpt.MST(data, e, delta, outcome, admissible, protected)\n",
    "        synth.df.to_csv(\"data/fair_opt/small_admis/eps=\" +str(e)+\"/results_opt_\" + str(i) + \".csv\", index=False)\n"
   ]
  },
  {
   "cell_type": "markdown",
   "metadata": {},
   "source": [
    "# Compas Dataset"
   ]
  },
  {
   "cell_type": "code",
   "execution_count": 3,
   "metadata": {},
   "outputs": [],
   "source": [
    "delta = 1e-9\n",
    "dataset = \"data/cleaned_Compas.csv\"\n",
    "domain = \"data/cleanded_Compas-domain.json\"\n",
    "admissible = ['Misdemeanor','Number_of_Priors']\n",
    "protected = ['Sex','Race']\n",
    "outcome = ['Two_yr_Recidivism']\n",
    "data = Dataset.load(dataset, domain)"
   ]
  },
  {
   "cell_type": "code",
   "execution_count": 5,
   "metadata": {},
   "outputs": [
    {
     "name": "stdout",
     "output_type": "stream",
     "text": [
      "1000\n"
     ]
    },
    {
     "ename": "KeyboardInterrupt",
     "evalue": "",
     "output_type": "error",
     "traceback": [
      "\u001b[0;31m---------------------------------------------------------------------------\u001b[0m",
      "\u001b[0;31mKeyboardInterrupt\u001b[0m                         Traceback (most recent call last)",
      "\u001b[0;32m<ipython-input-5-961b27f1ef75>\u001b[0m in \u001b[0;36m<module>\u001b[0;34m\u001b[0m\n\u001b[1;32m      5\u001b[0m     \u001b[0mprint\u001b[0m\u001b[0;34m(\u001b[0m\u001b[0mstr\u001b[0m\u001b[0;34m(\u001b[0m\u001b[0me\u001b[0m\u001b[0;34m)\u001b[0m\u001b[0;34m)\u001b[0m\u001b[0;34m\u001b[0m\u001b[0;34m\u001b[0m\u001b[0m\n\u001b[1;32m      6\u001b[0m     \u001b[0;32mfor\u001b[0m \u001b[0mi\u001b[0m \u001b[0;32min\u001b[0m \u001b[0mrange\u001b[0m\u001b[0;34m(\u001b[0m\u001b[0;36m10\u001b[0m\u001b[0;34m)\u001b[0m\u001b[0;34m:\u001b[0m\u001b[0;34m\u001b[0m\u001b[0;34m\u001b[0m\u001b[0m\n\u001b[0;32m----> 7\u001b[0;31m         \u001b[0msynth\u001b[0m \u001b[0;34m=\u001b[0m \u001b[0mfairMSTOpt\u001b[0m\u001b[0;34m.\u001b[0m\u001b[0mMST\u001b[0m\u001b[0;34m(\u001b[0m\u001b[0mdata\u001b[0m\u001b[0;34m,\u001b[0m \u001b[0me\u001b[0m\u001b[0;34m,\u001b[0m \u001b[0mdelta\u001b[0m\u001b[0;34m,\u001b[0m \u001b[0moutcome\u001b[0m\u001b[0;34m,\u001b[0m \u001b[0madmissible\u001b[0m\u001b[0;34m,\u001b[0m \u001b[0mprotected\u001b[0m\u001b[0;34m)\u001b[0m\u001b[0;34m\u001b[0m\u001b[0;34m\u001b[0m\u001b[0m\n\u001b[0m\u001b[1;32m      8\u001b[0m         \u001b[0msynth\u001b[0m\u001b[0;34m.\u001b[0m\u001b[0mdf\u001b[0m\u001b[0;34m.\u001b[0m\u001b[0mto_csv\u001b[0m\u001b[0;34m(\u001b[0m\u001b[0;34m\"data/fair_opt/Compas/eps=\"\u001b[0m \u001b[0;34m+\u001b[0m\u001b[0mstr\u001b[0m\u001b[0;34m(\u001b[0m\u001b[0me\u001b[0m\u001b[0;34m)\u001b[0m\u001b[0;34m+\u001b[0m\u001b[0;34m\"/results_opt_\"\u001b[0m \u001b[0;34m+\u001b[0m \u001b[0mstr\u001b[0m\u001b[0;34m(\u001b[0m\u001b[0mi\u001b[0m\u001b[0;34m)\u001b[0m \u001b[0;34m+\u001b[0m \u001b[0;34m\".csv\"\u001b[0m\u001b[0;34m,\u001b[0m \u001b[0mindex\u001b[0m\u001b[0;34m=\u001b[0m\u001b[0;32mFalse\u001b[0m\u001b[0;34m)\u001b[0m\u001b[0;34m\u001b[0m\u001b[0;34m\u001b[0m\u001b[0m\n",
      "\u001b[0;32m~/privbayes/private-pgm/src/mst_fair_optimal.py\u001b[0m in \u001b[0;36mMST\u001b[0;34m(data, epsilon, delta, outcome, admissible, protected)\u001b[0m\n\u001b[1;32m     29\u001b[0m     \u001b[0mlog2\u001b[0m \u001b[0;34m=\u001b[0m \u001b[0mmeasure\u001b[0m\u001b[0;34m(\u001b[0m\u001b[0mdata\u001b[0m\u001b[0;34m,\u001b[0m \u001b[0mcliques\u001b[0m\u001b[0;34m,\u001b[0m \u001b[0msigma\u001b[0m\u001b[0;34m)\u001b[0m\u001b[0;34m\u001b[0m\u001b[0;34m\u001b[0m\u001b[0m\n\u001b[1;32m     30\u001b[0m     \u001b[0mengine\u001b[0m \u001b[0;34m=\u001b[0m \u001b[0mFactoredInference\u001b[0m\u001b[0;34m(\u001b[0m\u001b[0mdata\u001b[0m\u001b[0;34m.\u001b[0m\u001b[0mdomain\u001b[0m\u001b[0;34m,\u001b[0m \u001b[0miters\u001b[0m\u001b[0;34m=\u001b[0m\u001b[0;36m5000\u001b[0m\u001b[0;34m)\u001b[0m\u001b[0;34m\u001b[0m\u001b[0;34m\u001b[0m\u001b[0m\n\u001b[0;32m---> 31\u001b[0;31m     \u001b[0mest\u001b[0m \u001b[0;34m=\u001b[0m \u001b[0mengine\u001b[0m\u001b[0;34m.\u001b[0m\u001b[0mestimate\u001b[0m\u001b[0;34m(\u001b[0m\u001b[0mlog1\u001b[0m\u001b[0;34m+\u001b[0m\u001b[0mlog2\u001b[0m\u001b[0;34m)\u001b[0m\u001b[0;34m\u001b[0m\u001b[0;34m\u001b[0m\u001b[0m\n\u001b[0m\u001b[1;32m     32\u001b[0m     \u001b[0msynth\u001b[0m \u001b[0;34m=\u001b[0m \u001b[0mest\u001b[0m\u001b[0;34m.\u001b[0m\u001b[0msynthetic_data\u001b[0m\u001b[0;34m(\u001b[0m\u001b[0;34m)\u001b[0m\u001b[0;34m\u001b[0m\u001b[0;34m\u001b[0m\u001b[0m\n\u001b[1;32m     33\u001b[0m     \u001b[0;32mreturn\u001b[0m \u001b[0mundo_compress_fn\u001b[0m\u001b[0;34m(\u001b[0m\u001b[0msynth\u001b[0m\u001b[0;34m)\u001b[0m\u001b[0;34m\u001b[0m\u001b[0;34m\u001b[0m\u001b[0m\n",
      "\u001b[0;32m~/privbayes/private-pgm/src/mbi/inference.py\u001b[0m in \u001b[0;36mestimate\u001b[0;34m(self, measurements, total, engine, callback, options)\u001b[0m\n\u001b[1;32m     73\u001b[0m             \u001b[0moptions\u001b[0m\u001b[0;34m[\u001b[0m\u001b[0;34m'callback'\u001b[0m\u001b[0;34m]\u001b[0m \u001b[0;34m=\u001b[0m \u001b[0mcallbacks\u001b[0m\u001b[0;34m.\u001b[0m\u001b[0mLogger\u001b[0m\u001b[0;34m(\u001b[0m\u001b[0mself\u001b[0m\u001b[0;34m)\u001b[0m\u001b[0;34m\u001b[0m\u001b[0;34m\u001b[0m\u001b[0m\n\u001b[1;32m     74\u001b[0m         \u001b[0;32mif\u001b[0m \u001b[0mengine\u001b[0m \u001b[0;34m==\u001b[0m \u001b[0;34m'MD'\u001b[0m\u001b[0;34m:\u001b[0m\u001b[0;34m\u001b[0m\u001b[0;34m\u001b[0m\u001b[0m\n\u001b[0;32m---> 75\u001b[0;31m             \u001b[0mself\u001b[0m\u001b[0;34m.\u001b[0m\u001b[0mmirror_descent\u001b[0m\u001b[0;34m(\u001b[0m\u001b[0mmeasurements\u001b[0m\u001b[0;34m,\u001b[0m \u001b[0mtotal\u001b[0m\u001b[0;34m,\u001b[0m \u001b[0;34m**\u001b[0m\u001b[0moptions\u001b[0m\u001b[0;34m)\u001b[0m\u001b[0;34m\u001b[0m\u001b[0;34m\u001b[0m\u001b[0m\n\u001b[0m\u001b[1;32m     76\u001b[0m         \u001b[0;32melif\u001b[0m \u001b[0mengine\u001b[0m \u001b[0;34m==\u001b[0m \u001b[0;34m'RDA'\u001b[0m\u001b[0;34m:\u001b[0m\u001b[0;34m\u001b[0m\u001b[0;34m\u001b[0m\u001b[0m\n\u001b[1;32m     77\u001b[0m             \u001b[0mself\u001b[0m\u001b[0;34m.\u001b[0m\u001b[0mdual_averaging\u001b[0m\u001b[0;34m(\u001b[0m\u001b[0mmeasurements\u001b[0m\u001b[0;34m,\u001b[0m \u001b[0mtotal\u001b[0m\u001b[0;34m,\u001b[0m \u001b[0;34m**\u001b[0m\u001b[0moptions\u001b[0m\u001b[0;34m)\u001b[0m\u001b[0;34m\u001b[0m\u001b[0;34m\u001b[0m\u001b[0m\n",
      "\u001b[0;32m~/privbayes/private-pgm/src/mbi/inference.py\u001b[0m in \u001b[0;36mmirror_descent\u001b[0;34m(self, measurements, total, stepsize, callback)\u001b[0m\n\u001b[1;32m    235\u001b[0m                 \u001b[0mtheta\u001b[0m \u001b[0;34m=\u001b[0m \u001b[0momega\u001b[0m \u001b[0;34m-\u001b[0m \u001b[0malpha\u001b[0m\u001b[0;34m*\u001b[0m\u001b[0mdL\u001b[0m\u001b[0;34m\u001b[0m\u001b[0;34m\u001b[0m\u001b[0m\n\u001b[1;32m    236\u001b[0m                 \u001b[0mmu\u001b[0m \u001b[0;34m=\u001b[0m \u001b[0mmodel\u001b[0m\u001b[0;34m.\u001b[0m\u001b[0mbelief_propagation\u001b[0m\u001b[0;34m(\u001b[0m\u001b[0mtheta\u001b[0m\u001b[0;34m)\u001b[0m\u001b[0;34m\u001b[0m\u001b[0;34m\u001b[0m\u001b[0m\n\u001b[0;32m--> 237\u001b[0;31m                 \u001b[0mans\u001b[0m \u001b[0;34m=\u001b[0m \u001b[0mself\u001b[0m\u001b[0;34m.\u001b[0m\u001b[0m_marginal_loss\u001b[0m\u001b[0;34m(\u001b[0m\u001b[0mmu\u001b[0m\u001b[0;34m)\u001b[0m\u001b[0;34m\u001b[0m\u001b[0;34m\u001b[0m\u001b[0m\n\u001b[0m\u001b[1;32m    238\u001b[0m                 \u001b[0;32mif\u001b[0m \u001b[0mnols\u001b[0m \u001b[0;32mor\u001b[0m \u001b[0mcurr_loss\u001b[0m \u001b[0;34m-\u001b[0m \u001b[0mans\u001b[0m\u001b[0;34m[\u001b[0m\u001b[0;36m0\u001b[0m\u001b[0;34m]\u001b[0m \u001b[0;34m>=\u001b[0m \u001b[0;36m0.5\u001b[0m\u001b[0;34m*\u001b[0m\u001b[0malpha\u001b[0m\u001b[0;34m*\u001b[0m\u001b[0mdL\u001b[0m\u001b[0;34m.\u001b[0m\u001b[0mdot\u001b[0m\u001b[0;34m(\u001b[0m\u001b[0mnu\u001b[0m\u001b[0;34m-\u001b[0m\u001b[0mmu\u001b[0m\u001b[0;34m)\u001b[0m\u001b[0;34m:\u001b[0m\u001b[0;34m\u001b[0m\u001b[0;34m\u001b[0m\u001b[0m\n\u001b[1;32m    239\u001b[0m                     \u001b[0;32mbreak\u001b[0m\u001b[0;34m\u001b[0m\u001b[0;34m\u001b[0m\u001b[0m\n",
      "\u001b[0;32m~/privbayes/private-pgm/src/mbi/inference.py\u001b[0m in \u001b[0;36m_marginal_loss\u001b[0;34m(self, marginals, metric)\u001b[0m\n\u001b[1;32m    275\u001b[0m                 \u001b[0;32melse\u001b[0m\u001b[0;34m:\u001b[0m\u001b[0;34m\u001b[0m\u001b[0;34m\u001b[0m\u001b[0m\n\u001b[1;32m    276\u001b[0m                     \u001b[0mloss\u001b[0m \u001b[0;34m+=\u001b[0m \u001b[0;36m0.5\u001b[0m\u001b[0;34m*\u001b[0m\u001b[0;34m(\u001b[0m\u001b[0mdiff\u001b[0m \u001b[0;34m@\u001b[0m \u001b[0mdiff\u001b[0m\u001b[0;34m)\u001b[0m\u001b[0;34m\u001b[0m\u001b[0;34m\u001b[0m\u001b[0m\n\u001b[0;32m--> 277\u001b[0;31m                     \u001b[0mgrad\u001b[0m \u001b[0;34m=\u001b[0m \u001b[0mc\u001b[0m\u001b[0;34m*\u001b[0m\u001b[0;34m(\u001b[0m\u001b[0mQ\u001b[0m\u001b[0;34m.\u001b[0m\u001b[0mT\u001b[0m \u001b[0;34m@\u001b[0m \u001b[0mdiff\u001b[0m\u001b[0;34m)\u001b[0m\u001b[0;34m\u001b[0m\u001b[0;34m\u001b[0m\u001b[0m\n\u001b[0m\u001b[1;32m    278\u001b[0m                 \u001b[0mgradient\u001b[0m\u001b[0;34m[\u001b[0m\u001b[0mcl\u001b[0m\u001b[0;34m]\u001b[0m \u001b[0;34m+=\u001b[0m \u001b[0mself\u001b[0m\u001b[0;34m.\u001b[0m\u001b[0mFactor\u001b[0m\u001b[0;34m(\u001b[0m\u001b[0mmu2\u001b[0m\u001b[0;34m.\u001b[0m\u001b[0mdomain\u001b[0m\u001b[0;34m,\u001b[0m \u001b[0mgrad\u001b[0m\u001b[0;34m)\u001b[0m\u001b[0;34m\u001b[0m\u001b[0;34m\u001b[0m\u001b[0m\n\u001b[1;32m    279\u001b[0m         \u001b[0;32mreturn\u001b[0m \u001b[0mfloat\u001b[0m\u001b[0;34m(\u001b[0m\u001b[0mloss\u001b[0m\u001b[0;34m)\u001b[0m\u001b[0;34m,\u001b[0m \u001b[0mCliqueVector\u001b[0m\u001b[0;34m(\u001b[0m\u001b[0mgradient\u001b[0m\u001b[0;34m)\u001b[0m\u001b[0;34m\u001b[0m\u001b[0;34m\u001b[0m\u001b[0m\n",
      "\u001b[0;32m~/.local/lib/python3.8/site-packages/scipy/sparse/_base.py\u001b[0m in \u001b[0;36m__getattr__\u001b[0;34m(self, attr)\u001b[0m\n\u001b[1;32m    745\u001b[0m             \u001b[0;32mreturn\u001b[0m \u001b[0mself\u001b[0m\u001b[0;34m.\u001b[0m\u001b[0mtoarray\u001b[0m\u001b[0;34m(\u001b[0m\u001b[0;34m)\u001b[0m\u001b[0;34m\u001b[0m\u001b[0;34m\u001b[0m\u001b[0m\n\u001b[1;32m    746\u001b[0m         \u001b[0;32melif\u001b[0m \u001b[0mattr\u001b[0m \u001b[0;34m==\u001b[0m \u001b[0;34m'T'\u001b[0m\u001b[0;34m:\u001b[0m\u001b[0;34m\u001b[0m\u001b[0;34m\u001b[0m\u001b[0m\n\u001b[0;32m--> 747\u001b[0;31m             \u001b[0;32mreturn\u001b[0m \u001b[0mself\u001b[0m\u001b[0;34m.\u001b[0m\u001b[0mtranspose\u001b[0m\u001b[0;34m(\u001b[0m\u001b[0;34m)\u001b[0m\u001b[0;34m\u001b[0m\u001b[0;34m\u001b[0m\u001b[0m\n\u001b[0m\u001b[1;32m    748\u001b[0m         \u001b[0;32melif\u001b[0m \u001b[0mattr\u001b[0m \u001b[0;34m==\u001b[0m \u001b[0;34m'H'\u001b[0m\u001b[0;34m:\u001b[0m\u001b[0;34m\u001b[0m\u001b[0;34m\u001b[0m\u001b[0m\n\u001b[1;32m    749\u001b[0m             \u001b[0;32mif\u001b[0m \u001b[0mself\u001b[0m\u001b[0;34m.\u001b[0m\u001b[0m_is_array\u001b[0m\u001b[0;34m:\u001b[0m\u001b[0;34m\u001b[0m\u001b[0;34m\u001b[0m\u001b[0m\n",
      "\u001b[0;32m~/.local/lib/python3.8/site-packages/scipy/sparse/_dia.py\u001b[0m in \u001b[0;36mtranspose\u001b[0;34m(self, axes, copy)\u001b[0m\n\u001b[1;32m    341\u001b[0m                                               dtype=self.data.dtype)))\n\u001b[1;32m    342\u001b[0m         \u001b[0mdata\u001b[0m \u001b[0;34m=\u001b[0m \u001b[0mdata\u001b[0m\u001b[0;34m[\u001b[0m\u001b[0mr\u001b[0m\u001b[0;34m,\u001b[0m \u001b[0mc\u001b[0m\u001b[0;34m]\u001b[0m\u001b[0;34m\u001b[0m\u001b[0;34m\u001b[0m\u001b[0m\n\u001b[0;32m--> 343\u001b[0;31m         return self._dia_container((data, offsets), shape=(\n\u001b[0m\u001b[1;32m    344\u001b[0m             num_cols, num_rows), copy=copy)\n\u001b[1;32m    345\u001b[0m \u001b[0;34m\u001b[0m\u001b[0m\n",
      "\u001b[0;32m~/.local/lib/python3.8/site-packages/scipy/sparse/_dia.py\u001b[0m in \u001b[0;36m__init__\u001b[0;34m(self, arg1, shape, dtype, copy)\u001b[0m\n\u001b[1;32m     90\u001b[0m         \u001b[0m_data_matrix\u001b[0m\u001b[0;34m.\u001b[0m\u001b[0m__init__\u001b[0m\u001b[0;34m(\u001b[0m\u001b[0mself\u001b[0m\u001b[0;34m)\u001b[0m\u001b[0;34m\u001b[0m\u001b[0;34m\u001b[0m\u001b[0m\n\u001b[1;32m     91\u001b[0m \u001b[0;34m\u001b[0m\u001b[0m\n\u001b[0;32m---> 92\u001b[0;31m         \u001b[0;32mif\u001b[0m \u001b[0misspmatrix_dia\u001b[0m\u001b[0;34m(\u001b[0m\u001b[0marg1\u001b[0m\u001b[0;34m)\u001b[0m\u001b[0;34m:\u001b[0m\u001b[0;34m\u001b[0m\u001b[0;34m\u001b[0m\u001b[0m\n\u001b[0m\u001b[1;32m     93\u001b[0m             \u001b[0;32mif\u001b[0m \u001b[0mcopy\u001b[0m\u001b[0;34m:\u001b[0m\u001b[0;34m\u001b[0m\u001b[0;34m\u001b[0m\u001b[0m\n\u001b[1;32m     94\u001b[0m                 \u001b[0marg1\u001b[0m \u001b[0;34m=\u001b[0m \u001b[0marg1\u001b[0m\u001b[0;34m.\u001b[0m\u001b[0mcopy\u001b[0m\u001b[0;34m(\u001b[0m\u001b[0;34m)\u001b[0m\u001b[0;34m\u001b[0m\u001b[0;34m\u001b[0m\u001b[0m\n",
      "\u001b[0;32m~/.local/lib/python3.8/site-packages/scipy/sparse/_dia.py\u001b[0m in \u001b[0;36misspmatrix_dia\u001b[0;34m(x)\u001b[0m\n\u001b[1;32m    467\u001b[0m     \u001b[0;32mFalse\u001b[0m\u001b[0;34m\u001b[0m\u001b[0;34m\u001b[0m\u001b[0m\n\u001b[1;32m    468\u001b[0m     \"\"\"\n\u001b[0;32m--> 469\u001b[0;31m     \u001b[0;32mfrom\u001b[0m \u001b[0;34m.\u001b[0m\u001b[0m_arrays\u001b[0m \u001b[0;32mimport\u001b[0m \u001b[0mdia_array\u001b[0m\u001b[0;34m\u001b[0m\u001b[0;34m\u001b[0m\u001b[0m\n\u001b[0m\u001b[1;32m    470\u001b[0m     \u001b[0;32mreturn\u001b[0m \u001b[0misinstance\u001b[0m\u001b[0;34m(\u001b[0m\u001b[0mx\u001b[0m\u001b[0;34m,\u001b[0m \u001b[0mdia_matrix\u001b[0m\u001b[0;34m)\u001b[0m \u001b[0;32mor\u001b[0m \u001b[0misinstance\u001b[0m\u001b[0;34m(\u001b[0m\u001b[0mx\u001b[0m\u001b[0;34m,\u001b[0m \u001b[0mdia_array\u001b[0m\u001b[0;34m)\u001b[0m\u001b[0;34m\u001b[0m\u001b[0;34m\u001b[0m\u001b[0m\n",
      "\u001b[0;31mKeyboardInterrupt\u001b[0m: "
     ]
    }
   ],
   "source": [
    "\n",
    "#eps = [1000000,10,1,0.1]\n",
    "eps = [1000,100,10,1,0.1]\n",
    "\n",
    "for e in eps:\n",
    "    print(str(e))\n",
    "    for i in range(10):\n",
    "        synth = fairMSTOpt.MST(data, e, delta, outcome, admissible, protected)\n",
    "        synth.df.to_csv(\"data/fair_opt/Compas/eps=\" +str(e)+\"/results_opt_\" + str(i) + \".csv\", index=False)\n"
   ]
  },
  {
   "cell_type": "code",
   "execution_count": 6,
   "metadata": {},
   "outputs": [
    {
     "name": "stdout",
     "output_type": "stream",
     "text": [
      "1000\n",
      "100\n",
      "10\n",
      "1\n",
      "0.1\n"
     ]
    }
   ],
   "source": [
    "\n",
    "eps = [1000,100,10,1,0.1]\n",
    "#eps = [10,1,0.1]\n",
    "\n",
    "for e in eps:\n",
    "    print(str(e))\n",
    "    for i in range(10):\n",
    "        synth = fairMST.MST(data, e, delta, outcome, admissible)\n",
    "        synth.df.to_csv(\"data/fair_greedy/Compas/eps=\" +str(e)+\"/results_greedy_\" + str(i) + \".csv\", index=False)\n",
    "        synth = mst.MST(data, e, delta)\n",
    "        synth.df.to_csv(\"data/original/Compas/eps=\" +str(e)+\"/results_original_\" + str(i) + \".csv\", index=False)\n",
    "        synth = fairMSTOpt.MST(data, e, delta, outcome, admissible, protected)\n",
    "        synth.df.to_csv(\"data/fair_opt/Compas/eps=\" +str(e)+\"/results_opt_\" + str(i) + \".csv\", index=False)\n"
   ]
  },
  {
   "cell_type": "markdown",
   "metadata": {},
   "source": [
    "# For timing"
   ]
  },
  {
   "cell_type": "code",
   "execution_count": 3,
   "metadata": {},
   "outputs": [],
   "source": [
    "\n",
    "dataset = \"data/adult.csv\"\n",
    "domain = \"data/adult-domain.json\"\n",
    "epsilon = 0.1\n",
    "delta = 1e-9\n",
    "degree = 2 \n",
    "num_marginals = None\n",
    "max_cells = 10000\n",
    "save = \"data/results.csv\"\n",
    "save_fair = \"data/results_fair.csv\"\n",
    "save_fair_opt =\"data/results_fair_opt.csv\"\n",
    "outcome = ['income>50K']\n",
    "#admissible = ['age','workclass','fnlwgt','education-num','marital-status','occupation','relationship','capital-gain','capital-loss','hours-per-week']\n",
    "admissible = ['workclass','fnlwgt','education-num','occupation','capital-gain','capital-loss','hours-per-week']\n",
    "protected = ['race','sex','native-country']\n",
    "data = Dataset.load(dataset, domain)"
   ]
  },
  {
   "cell_type": "code",
   "execution_count": 4,
   "metadata": {},
   "outputs": [
    {
     "name": "stdout",
     "output_type": "stream",
     "text": [
      "0\n",
      "1\n",
      "2\n",
      "3\n",
      "4\n",
      "5\n",
      "6\n",
      "7\n",
      "8\n",
      "9\n",
      "[212.39918466499967, 197.8623674800001, 191.32921687299995, 201.1442108350002, 193.23384540899997, 211.17635349600005, 183.79868317499995, 190.95482658300034, 174.89360575799992, 217.21736015500028]\n"
     ]
    }
   ],
   "source": [
    "\n",
    "fair_greedy_adult_times10= []\n",
    "for i in range(10):\n",
    "    print(str(i))\n",
    "    start_time = timeit.default_timer()\n",
    "    synth = fairMST.MST(data, 10, delta, outcome, admissible)\n",
    "    #synth.df.to_csv(\"data/fair_greedy/results_greedy_\" + str(i) + \".csv\", index=False)\n",
    "    elapsed = timeit.default_timer() - start_time\n",
    "    fair_greedy_adult_times10.append(elapsed)\n",
    "print(fair_greedy_adult_times10)"
   ]
  },
  {
   "cell_type": "code",
   "execution_count": 5,
   "metadata": {},
   "outputs": [
    {
     "name": "stdout",
     "output_type": "stream",
     "text": [
      "0\n",
      "1\n",
      "2\n",
      "3\n",
      "4\n",
      "5\n",
      "6\n",
      "7\n",
      "8\n",
      "9\n",
      "[213.80042834899996, 195.72985860100016, 163.98932678999972, 173.62428774599994, 167.13612769199972, 174.79143019999992, 170.36452583400023, 178.19464891799998, 184.05615884300005, 166.54191918800007]\n"
     ]
    }
   ],
   "source": [
    "\n",
    "fair_greedy_adult_times1= []\n",
    "for i in range(10):\n",
    "    print(str(i))\n",
    "    start_time = timeit.default_timer()\n",
    "    synth = fairMST.MST(data,1, delta, outcome, admissible)\n",
    "    #synth.df.to_csv(\"data/fair_greedy/results_greedy_\" + str(i) + \".csv\", index=False)\n",
    "    elapsed = timeit.default_timer() - start_time\n",
    "    fair_greedy_adult_times1.append(elapsed)\n",
    "print(fair_greedy_adult_times1)"
   ]
  },
  {
   "cell_type": "code",
   "execution_count": 6,
   "metadata": {},
   "outputs": [
    {
     "name": "stdout",
     "output_type": "stream",
     "text": [
      "0\n",
      "1\n",
      "2\n",
      "3\n",
      "4\n",
      "5\n",
      "6\n",
      "7\n",
      "8\n",
      "9\n",
      "[230.13836387900028, 227.0165357779997, 245.85672224399968, 241.758930512, 250.3604582730004, 223.8691247860006, 225.15802639499998, 237.54128124, 246.6268733299994, 249.30580612000085]\n"
     ]
    }
   ],
   "source": [
    "\n",
    "fair_greedy_adult_times01= []\n",
    "for i in range(10):\n",
    "    print(str(i))\n",
    "    start_time = timeit.default_timer()\n",
    "    synth = fairMST.MST(data, 0.1, delta, outcome, admissible)\n",
    "    #synth.df.to_csv(\"data/fair_greedy/results_greedy_\" + str(i) + \".csv\", index=False)\n",
    "    elapsed = timeit.default_timer() - start_time\n",
    "    fair_greedy_adult_times01.append(elapsed)\n",
    "print(fair_greedy_adult_times01)"
   ]
  },
  {
   "cell_type": "code",
   "execution_count": 7,
   "metadata": {},
   "outputs": [
    {
     "name": "stdout",
     "output_type": "stream",
     "text": [
      "0\n",
      "1\n",
      "2\n",
      "3\n",
      "4\n",
      "5\n",
      "6\n",
      "7\n",
      "8\n",
      "9\n",
      "[306.4823575900009, 164.5033842089997, 159.49412701599977, 157.80584821400043, 155.36938416500016, 154.47040704000028, 154.3644473530003, 154.479138228, 196.55185694099964, 180.52453599099863]\n"
     ]
    }
   ],
   "source": [
    "\n",
    "fair_greedy_adult_times100= []\n",
    "for i in range(10):\n",
    "    print(str(i))\n",
    "    start_time = timeit.default_timer()\n",
    "    synth = fairMST.MST(data, 100, delta, outcome, admissible)\n",
    "    #synth.df.to_csv(\"data/fair_greedy/results_greedy_\" + str(i) + \".csv\", index=False)\n",
    "    elapsed = timeit.default_timer() - start_time\n",
    "    fair_greedy_adult_times100.append(elapsed)\n",
    "print(fair_greedy_adult_times100)"
   ]
  },
  {
   "cell_type": "code",
   "execution_count": 8,
   "metadata": {
    "scrolled": true
   },
   "outputs": [
    {
     "name": "stdout",
     "output_type": "stream",
     "text": [
      "0\n",
      "1\n",
      "2\n",
      "3\n",
      "4\n",
      "5\n",
      "6\n",
      "7\n",
      "8\n",
      "9\n",
      "[183.50408650899953, 175.822150598, 166.1314558539998, 171.47190003300057, 164.1450147530013, 167.235414286999, 171.44589917600024, 163.32023173800007, 143.2588310400006, 142.38663801099938]\n"
     ]
    }
   ],
   "source": [
    "\n",
    "fair_greedy_adult_times1000= []\n",
    "for i in range(10):\n",
    "    print(str(i))\n",
    "    start_time = timeit.default_timer()\n",
    "    synth = fairMST.MST(data, 1000, delta, outcome, admissible)\n",
    "    #synth.df.to_csv(\"data/fair_greedy/results_greedy_\" + str(i) + \".csv\", index=False)\n",
    "    elapsed = timeit.default_timer() - start_time\n",
    "    fair_greedy_adult_times1000.append(elapsed)\n",
    "print(fair_greedy_adult_times1000)"
   ]
  },
  {
   "cell_type": "code",
   "execution_count": 4,
   "metadata": {},
   "outputs": [
    {
     "name": "stdout",
     "output_type": "stream",
     "text": [
      "0\n",
      "1\n",
      "2\n",
      "3\n",
      "4\n",
      "5\n",
      "6\n",
      "7\n",
      "8\n",
      "9\n",
      "[364.392184947, 350.69011776300005, 351.431450637, 350.02349901499997, 348.5643997719999, 354.495522831, 349.24960375599994, 353.52176839899994, 348.85698521400036, 353.8694545070002]\n"
     ]
    }
   ],
   "source": [
    "fair_opt_adult_times10= []\n",
    "for i in range(10):\n",
    "    print(str(i))\n",
    "    start_time = timeit.default_timer()\n",
    "    synth = fairMSTOpt.MST(data, 10, delta, outcome, admissible, protected)\n",
    "    #synth.df.to_csv(\"data/fair_opt/results_opt_\" + str(i) + \".csv\", index=False)\n",
    "    elapsed = timeit.default_timer() - start_time\n",
    "    fair_opt_adult_times10.append(elapsed)\n",
    "print(fair_opt_adult_times10)"
   ]
  },
  {
   "cell_type": "code",
   "execution_count": 5,
   "metadata": {},
   "outputs": [
    {
     "name": "stdout",
     "output_type": "stream",
     "text": [
      "0\n",
      "1\n",
      "2\n",
      "3\n",
      "4\n",
      "5\n",
      "6\n",
      "7\n",
      "8\n",
      "9\n",
      "[641.1338809669996, 8687.562606071999, 726.8615125209999, 735.2726047439992, 507.31379485099933, 1146.1574729270014, 926.5620283650005, 321.7229800940004, 539.990770280001, 702.3433852269991]\n"
     ]
    }
   ],
   "source": [
    "fair_opt_adult_times1= []\n",
    "for i in range(10):\n",
    "    print(str(i))\n",
    "    start_time = timeit.default_timer()\n",
    "    synth = fairMSTOpt.MST(data, 1, delta, outcome, admissible, protected)\n",
    "    #synth.df.to_csv(\"data/fair_opt/results_opt_\" + str(i) + \".csv\", index=False)\n",
    "    elapsed = timeit.default_timer() - start_time\n",
    "    fair_opt_adult_times1.append(elapsed)\n",
    "print(fair_opt_adult_times1)"
   ]
  },
  {
   "cell_type": "code",
   "execution_count": 4,
   "metadata": {},
   "outputs": [
    {
     "name": "stdout",
     "output_type": "stream",
     "text": [
      "0\n",
      "1\n",
      "2\n",
      "3\n",
      "4\n",
      "5\n",
      "6\n",
      "7\n",
      "8\n",
      "9\n",
      "[339.450682611, 585.963610517, 276.90973247199986, 1298.294222519, 2056.727351571, 324.88087384400023, 1547.8208502610005, 389.5506675300003, 6285.104720495, 337.08974024300005]\n"
     ]
    }
   ],
   "source": [
    "fair_opt_adult_times01= []\n",
    "for i in range(10):\n",
    "    print(str(i))\n",
    "    start_time = timeit.default_timer()\n",
    "    synth = fairMSTOpt.MST(data, 0.1, delta, outcome, admissible, protected)\n",
    "    #synth.df.to_csv(\"data/fair_opt/results_opt_\" + str(i) + \".csv\", index=False)\n",
    "    elapsed = timeit.default_timer() - start_time\n",
    "    fair_opt_adult_times01.append(elapsed)\n",
    "print(fair_opt_adult_times01)"
   ]
  },
  {
   "cell_type": "code",
   "execution_count": 4,
   "metadata": {},
   "outputs": [
    {
     "name": "stdout",
     "output_type": "stream",
     "text": [
      "0\n",
      "1\n",
      "2\n",
      "3\n"
     ]
    },
    {
     "ename": "KeyboardInterrupt",
     "evalue": "",
     "output_type": "error",
     "traceback": [
      "\u001b[0;31m---------------------------------------------------------------------------\u001b[0m",
      "\u001b[0;31mKeyboardInterrupt\u001b[0m                         Traceback (most recent call last)",
      "\u001b[0;32m<ipython-input-4-0ebc755c8ff1>\u001b[0m in \u001b[0;36m<module>\u001b[0;34m\u001b[0m\n\u001b[1;32m      3\u001b[0m     \u001b[0mprint\u001b[0m\u001b[0;34m(\u001b[0m\u001b[0mstr\u001b[0m\u001b[0;34m(\u001b[0m\u001b[0mi\u001b[0m\u001b[0;34m)\u001b[0m\u001b[0;34m)\u001b[0m\u001b[0;34m\u001b[0m\u001b[0;34m\u001b[0m\u001b[0m\n\u001b[1;32m      4\u001b[0m     \u001b[0mstart_time\u001b[0m \u001b[0;34m=\u001b[0m \u001b[0mtimeit\u001b[0m\u001b[0;34m.\u001b[0m\u001b[0mdefault_timer\u001b[0m\u001b[0;34m(\u001b[0m\u001b[0;34m)\u001b[0m\u001b[0;34m\u001b[0m\u001b[0;34m\u001b[0m\u001b[0m\n\u001b[0;32m----> 5\u001b[0;31m     \u001b[0msynth\u001b[0m \u001b[0;34m=\u001b[0m \u001b[0mfairMSTOpt\u001b[0m\u001b[0;34m.\u001b[0m\u001b[0mMST\u001b[0m\u001b[0;34m(\u001b[0m\u001b[0mdata\u001b[0m\u001b[0;34m,\u001b[0m \u001b[0;36m1000\u001b[0m\u001b[0;34m,\u001b[0m \u001b[0mdelta\u001b[0m\u001b[0;34m,\u001b[0m \u001b[0moutcome\u001b[0m\u001b[0;34m,\u001b[0m \u001b[0madmissible\u001b[0m\u001b[0;34m,\u001b[0m \u001b[0mprotected\u001b[0m\u001b[0;34m)\u001b[0m\u001b[0;34m\u001b[0m\u001b[0;34m\u001b[0m\u001b[0m\n\u001b[0m\u001b[1;32m      6\u001b[0m     \u001b[0;31m#synth.df.to_csv(\"data/fair_opt/results_opt_\" + str(i) + \".csv\", index=False)\u001b[0m\u001b[0;34m\u001b[0m\u001b[0;34m\u001b[0m\u001b[0;34m\u001b[0m\u001b[0m\n\u001b[1;32m      7\u001b[0m     \u001b[0melapsed\u001b[0m \u001b[0;34m=\u001b[0m \u001b[0mtimeit\u001b[0m\u001b[0;34m.\u001b[0m\u001b[0mdefault_timer\u001b[0m\u001b[0;34m(\u001b[0m\u001b[0;34m)\u001b[0m \u001b[0;34m-\u001b[0m \u001b[0mstart_time\u001b[0m\u001b[0;34m\u001b[0m\u001b[0;34m\u001b[0m\u001b[0m\n",
      "\u001b[0;32m~/privbayes/private-pgm/src/mst_fair_optimal.py\u001b[0m in \u001b[0;36mMST\u001b[0;34m(data, epsilon, delta, outcome, admissible, protected)\u001b[0m\n\u001b[1;32m     26\u001b[0m     \u001b[0mlog1\u001b[0m \u001b[0;34m=\u001b[0m \u001b[0mmeasure\u001b[0m\u001b[0;34m(\u001b[0m\u001b[0mdata\u001b[0m\u001b[0;34m,\u001b[0m \u001b[0mcliques\u001b[0m\u001b[0;34m,\u001b[0m \u001b[0msigma\u001b[0m\u001b[0;34m)\u001b[0m\u001b[0;34m\u001b[0m\u001b[0;34m\u001b[0m\u001b[0m\n\u001b[1;32m     27\u001b[0m     \u001b[0mdata\u001b[0m\u001b[0;34m,\u001b[0m \u001b[0mlog1\u001b[0m\u001b[0;34m,\u001b[0m \u001b[0mundo_compress_fn\u001b[0m \u001b[0;34m=\u001b[0m \u001b[0mcompress_domain\u001b[0m\u001b[0;34m(\u001b[0m\u001b[0mdata\u001b[0m\u001b[0;34m,\u001b[0m \u001b[0mlog1\u001b[0m\u001b[0;34m)\u001b[0m\u001b[0;34m\u001b[0m\u001b[0;34m\u001b[0m\u001b[0m\n\u001b[0;32m---> 28\u001b[0;31m     \u001b[0mcliques\u001b[0m \u001b[0;34m=\u001b[0m \u001b[0mselect\u001b[0m\u001b[0;34m(\u001b[0m\u001b[0mdata\u001b[0m\u001b[0;34m,\u001b[0m \u001b[0mrho\u001b[0m\u001b[0;34m/\u001b[0m\u001b[0;36m3.0\u001b[0m\u001b[0;34m,\u001b[0m\u001b[0mlog1\u001b[0m\u001b[0;34m,\u001b[0m \u001b[0moutcome\u001b[0m\u001b[0;34m,\u001b[0m \u001b[0madmissible\u001b[0m\u001b[0;34m,\u001b[0m\u001b[0mprotected\u001b[0m\u001b[0;34m)\u001b[0m\u001b[0;34m\u001b[0m\u001b[0;34m\u001b[0m\u001b[0m\n\u001b[0m\u001b[1;32m     29\u001b[0m     \u001b[0mlog2\u001b[0m \u001b[0;34m=\u001b[0m \u001b[0mmeasure\u001b[0m\u001b[0;34m(\u001b[0m\u001b[0mdata\u001b[0m\u001b[0;34m,\u001b[0m \u001b[0mcliques\u001b[0m\u001b[0;34m,\u001b[0m \u001b[0msigma\u001b[0m\u001b[0;34m)\u001b[0m\u001b[0;34m\u001b[0m\u001b[0;34m\u001b[0m\u001b[0m\n\u001b[1;32m     30\u001b[0m     \u001b[0mengine\u001b[0m \u001b[0;34m=\u001b[0m \u001b[0mFactoredInference\u001b[0m\u001b[0;34m(\u001b[0m\u001b[0mdata\u001b[0m\u001b[0;34m.\u001b[0m\u001b[0mdomain\u001b[0m\u001b[0;34m,\u001b[0m \u001b[0miters\u001b[0m\u001b[0;34m=\u001b[0m\u001b[0;36m5000\u001b[0m\u001b[0;34m)\u001b[0m\u001b[0;34m\u001b[0m\u001b[0;34m\u001b[0m\u001b[0m\n",
      "\u001b[0;32m~/privbayes/private-pgm/src/mst_fair_optimal.py\u001b[0m in \u001b[0;36mselect\u001b[0;34m(data, rho, measurement_log, outcome, admissible, protected, cliques)\u001b[0m\n\u001b[1;32m    119\u001b[0m                 \u001b[0mexists\u001b[0m \u001b[0;34m=\u001b[0m \u001b[0;32mFalse\u001b[0m\u001b[0;34m\u001b[0m\u001b[0;34m\u001b[0m\u001b[0m\n\u001b[1;32m    120\u001b[0m                 \u001b[0;32mfor\u001b[0m \u001b[0mi\u001b[0m \u001b[0;32min\u001b[0m \u001b[0mheap\u001b[0m\u001b[0;34m:\u001b[0m\u001b[0;34m\u001b[0m\u001b[0;34m\u001b[0m\u001b[0m\n\u001b[0;32m--> 121\u001b[0;31m                     \u001b[0mexists\u001b[0m \u001b[0;34m=\u001b[0m \u001b[0mexists\u001b[0m \u001b[0;32mor\u001b[0m \u001b[0mnx\u001b[0m\u001b[0;34m.\u001b[0m\u001b[0mis_isomorphic\u001b[0m\u001b[0;34m(\u001b[0m\u001b[0mT\u001b[0m\u001b[0;34m,\u001b[0m\u001b[0mi\u001b[0m\u001b[0;34m[\u001b[0m\u001b[0;36m2\u001b[0m\u001b[0;34m]\u001b[0m\u001b[0;34m)\u001b[0m\u001b[0;34m\u001b[0m\u001b[0;34m\u001b[0m\u001b[0m\n\u001b[0m\u001b[1;32m    122\u001b[0m                 \u001b[0;32mif\u001b[0m\u001b[0;34m(\u001b[0m\u001b[0;32mnot\u001b[0m \u001b[0mexists\u001b[0m\u001b[0;34m)\u001b[0m\u001b[0;34m:\u001b[0m\u001b[0;34m\u001b[0m\u001b[0;34m\u001b[0m\u001b[0m\n\u001b[1;32m    123\u001b[0m                     \u001b[0mheapq\u001b[0m\u001b[0;34m.\u001b[0m\u001b[0mheappush\u001b[0m\u001b[0;34m(\u001b[0m\u001b[0mheap\u001b[0m\u001b[0;34m,\u001b[0m \u001b[0;34m(\u001b[0m\u001b[0;34m-\u001b[0m\u001b[0;36m1\u001b[0m\u001b[0;34m*\u001b[0m\u001b[0mW_current\u001b[0m\u001b[0;34m,\u001b[0m\u001b[0mid\u001b[0m\u001b[0;34m(\u001b[0m\u001b[0mT_current\u001b[0m\u001b[0;34m)\u001b[0m\u001b[0;34m,\u001b[0m\u001b[0mT_current\u001b[0m\u001b[0;34m,\u001b[0m\u001b[0mds_current\u001b[0m\u001b[0;34m)\u001b[0m\u001b[0;34m)\u001b[0m\u001b[0;34m\u001b[0m\u001b[0;34m\u001b[0m\u001b[0m\n",
      "\u001b[0;32m~/.local/lib/python3.8/site-packages/networkx/algorithms/isomorphism/isomorph.py\u001b[0m in \u001b[0;36mis_isomorphic\u001b[0;34m(G1, G2, node_match, edge_match)\u001b[0m\n\u001b[1;32m    231\u001b[0m     \u001b[0mgm\u001b[0m \u001b[0;34m=\u001b[0m \u001b[0mGM\u001b[0m\u001b[0;34m(\u001b[0m\u001b[0mG1\u001b[0m\u001b[0;34m,\u001b[0m \u001b[0mG2\u001b[0m\u001b[0;34m,\u001b[0m \u001b[0mnode_match\u001b[0m\u001b[0;34m=\u001b[0m\u001b[0mnode_match\u001b[0m\u001b[0;34m,\u001b[0m \u001b[0medge_match\u001b[0m\u001b[0;34m=\u001b[0m\u001b[0medge_match\u001b[0m\u001b[0;34m)\u001b[0m\u001b[0;34m\u001b[0m\u001b[0;34m\u001b[0m\u001b[0m\n\u001b[1;32m    232\u001b[0m \u001b[0;34m\u001b[0m\u001b[0m\n\u001b[0;32m--> 233\u001b[0;31m     \u001b[0;32mreturn\u001b[0m \u001b[0mgm\u001b[0m\u001b[0;34m.\u001b[0m\u001b[0mis_isomorphic\u001b[0m\u001b[0;34m(\u001b[0m\u001b[0;34m)\u001b[0m\u001b[0;34m\u001b[0m\u001b[0;34m\u001b[0m\u001b[0m\n\u001b[0m",
      "\u001b[0;32m~/.local/lib/python3.8/site-packages/networkx/algorithms/isomorphism/isomorphvf2.py\u001b[0m in \u001b[0;36mis_isomorphic\u001b[0;34m(self)\u001b[0m\n\u001b[1;32m    282\u001b[0m \u001b[0;34m\u001b[0m\u001b[0m\n\u001b[1;32m    283\u001b[0m         \u001b[0;32mtry\u001b[0m\u001b[0;34m:\u001b[0m\u001b[0;34m\u001b[0m\u001b[0;34m\u001b[0m\u001b[0m\n\u001b[0;32m--> 284\u001b[0;31m             \u001b[0mx\u001b[0m \u001b[0;34m=\u001b[0m \u001b[0mnext\u001b[0m\u001b[0;34m(\u001b[0m\u001b[0mself\u001b[0m\u001b[0;34m.\u001b[0m\u001b[0misomorphisms_iter\u001b[0m\u001b[0;34m(\u001b[0m\u001b[0;34m)\u001b[0m\u001b[0;34m)\u001b[0m\u001b[0;34m\u001b[0m\u001b[0;34m\u001b[0m\u001b[0m\n\u001b[0m\u001b[1;32m    285\u001b[0m             \u001b[0;32mreturn\u001b[0m \u001b[0;32mTrue\u001b[0m\u001b[0;34m\u001b[0m\u001b[0;34m\u001b[0m\u001b[0m\n\u001b[1;32m    286\u001b[0m         \u001b[0;32mexcept\u001b[0m \u001b[0mStopIteration\u001b[0m\u001b[0;34m:\u001b[0m\u001b[0;34m\u001b[0m\u001b[0;34m\u001b[0m\u001b[0m\n",
      "\u001b[0;32m~/.local/lib/python3.8/site-packages/networkx/algorithms/isomorphism/isomorphvf2.py\u001b[0m in \u001b[0;36misomorphisms_iter\u001b[0;34m(self)\u001b[0m\n\u001b[1;32m    292\u001b[0m         \u001b[0mself\u001b[0m\u001b[0;34m.\u001b[0m\u001b[0mtest\u001b[0m \u001b[0;34m=\u001b[0m \u001b[0;34m\"graph\"\u001b[0m\u001b[0;34m\u001b[0m\u001b[0;34m\u001b[0m\u001b[0m\n\u001b[1;32m    293\u001b[0m         \u001b[0mself\u001b[0m\u001b[0;34m.\u001b[0m\u001b[0minitialize\u001b[0m\u001b[0;34m(\u001b[0m\u001b[0;34m)\u001b[0m\u001b[0;34m\u001b[0m\u001b[0;34m\u001b[0m\u001b[0m\n\u001b[0;32m--> 294\u001b[0;31m         \u001b[0;32myield\u001b[0m \u001b[0;32mfrom\u001b[0m \u001b[0mself\u001b[0m\u001b[0;34m.\u001b[0m\u001b[0mmatch\u001b[0m\u001b[0;34m(\u001b[0m\u001b[0;34m)\u001b[0m\u001b[0;34m\u001b[0m\u001b[0;34m\u001b[0m\u001b[0m\n\u001b[0m\u001b[1;32m    295\u001b[0m \u001b[0;34m\u001b[0m\u001b[0m\n\u001b[1;32m    296\u001b[0m     \u001b[0;32mdef\u001b[0m \u001b[0mmatch\u001b[0m\u001b[0;34m(\u001b[0m\u001b[0mself\u001b[0m\u001b[0;34m)\u001b[0m\u001b[0;34m:\u001b[0m\u001b[0;34m\u001b[0m\u001b[0;34m\u001b[0m\u001b[0m\n",
      "\u001b[0;32m~/.local/lib/python3.8/site-packages/networkx/algorithms/isomorphism/isomorphvf2.py\u001b[0m in \u001b[0;36mmatch\u001b[0;34m(self)\u001b[0m\n\u001b[1;32m    314\u001b[0m                         \u001b[0;31m# Recursive call, adding the feasible state.\u001b[0m\u001b[0;34m\u001b[0m\u001b[0;34m\u001b[0m\u001b[0;34m\u001b[0m\u001b[0m\n\u001b[1;32m    315\u001b[0m                         \u001b[0mnewstate\u001b[0m \u001b[0;34m=\u001b[0m \u001b[0mself\u001b[0m\u001b[0;34m.\u001b[0m\u001b[0mstate\u001b[0m\u001b[0;34m.\u001b[0m\u001b[0m__class__\u001b[0m\u001b[0;34m(\u001b[0m\u001b[0mself\u001b[0m\u001b[0;34m,\u001b[0m \u001b[0mG1_node\u001b[0m\u001b[0;34m,\u001b[0m \u001b[0mG2_node\u001b[0m\u001b[0;34m)\u001b[0m\u001b[0;34m\u001b[0m\u001b[0;34m\u001b[0m\u001b[0m\n\u001b[0;32m--> 316\u001b[0;31m                         \u001b[0;32myield\u001b[0m \u001b[0;32mfrom\u001b[0m \u001b[0mself\u001b[0m\u001b[0;34m.\u001b[0m\u001b[0mmatch\u001b[0m\u001b[0;34m(\u001b[0m\u001b[0;34m)\u001b[0m\u001b[0;34m\u001b[0m\u001b[0;34m\u001b[0m\u001b[0m\n\u001b[0m\u001b[1;32m    317\u001b[0m \u001b[0;34m\u001b[0m\u001b[0m\n\u001b[1;32m    318\u001b[0m                         \u001b[0;31m# restore data structures\u001b[0m\u001b[0;34m\u001b[0m\u001b[0;34m\u001b[0m\u001b[0;34m\u001b[0m\u001b[0m\n",
      "\u001b[0;32m~/.local/lib/python3.8/site-packages/networkx/algorithms/isomorphism/isomorphvf2.py\u001b[0m in \u001b[0;36mmatch\u001b[0;34m(self)\u001b[0m\n\u001b[1;32m    314\u001b[0m                         \u001b[0;31m# Recursive call, adding the feasible state.\u001b[0m\u001b[0;34m\u001b[0m\u001b[0;34m\u001b[0m\u001b[0;34m\u001b[0m\u001b[0m\n\u001b[1;32m    315\u001b[0m                         \u001b[0mnewstate\u001b[0m \u001b[0;34m=\u001b[0m \u001b[0mself\u001b[0m\u001b[0;34m.\u001b[0m\u001b[0mstate\u001b[0m\u001b[0;34m.\u001b[0m\u001b[0m__class__\u001b[0m\u001b[0;34m(\u001b[0m\u001b[0mself\u001b[0m\u001b[0;34m,\u001b[0m \u001b[0mG1_node\u001b[0m\u001b[0;34m,\u001b[0m \u001b[0mG2_node\u001b[0m\u001b[0;34m)\u001b[0m\u001b[0;34m\u001b[0m\u001b[0;34m\u001b[0m\u001b[0m\n\u001b[0;32m--> 316\u001b[0;31m                         \u001b[0;32myield\u001b[0m \u001b[0;32mfrom\u001b[0m \u001b[0mself\u001b[0m\u001b[0;34m.\u001b[0m\u001b[0mmatch\u001b[0m\u001b[0;34m(\u001b[0m\u001b[0;34m)\u001b[0m\u001b[0;34m\u001b[0m\u001b[0;34m\u001b[0m\u001b[0m\n\u001b[0m\u001b[1;32m    317\u001b[0m \u001b[0;34m\u001b[0m\u001b[0m\n\u001b[1;32m    318\u001b[0m                         \u001b[0;31m# restore data structures\u001b[0m\u001b[0;34m\u001b[0m\u001b[0;34m\u001b[0m\u001b[0;34m\u001b[0m\u001b[0m\n",
      "\u001b[0;32m~/.local/lib/python3.8/site-packages/networkx/algorithms/isomorphism/isomorphvf2.py\u001b[0m in \u001b[0;36mmatch\u001b[0;34m(self)\u001b[0m\n\u001b[1;32m    314\u001b[0m                         \u001b[0;31m# Recursive call, adding the feasible state.\u001b[0m\u001b[0;34m\u001b[0m\u001b[0;34m\u001b[0m\u001b[0;34m\u001b[0m\u001b[0m\n\u001b[1;32m    315\u001b[0m                         \u001b[0mnewstate\u001b[0m \u001b[0;34m=\u001b[0m \u001b[0mself\u001b[0m\u001b[0;34m.\u001b[0m\u001b[0mstate\u001b[0m\u001b[0;34m.\u001b[0m\u001b[0m__class__\u001b[0m\u001b[0;34m(\u001b[0m\u001b[0mself\u001b[0m\u001b[0;34m,\u001b[0m \u001b[0mG1_node\u001b[0m\u001b[0;34m,\u001b[0m \u001b[0mG2_node\u001b[0m\u001b[0;34m)\u001b[0m\u001b[0;34m\u001b[0m\u001b[0;34m\u001b[0m\u001b[0m\n\u001b[0;32m--> 316\u001b[0;31m                         \u001b[0;32myield\u001b[0m \u001b[0;32mfrom\u001b[0m \u001b[0mself\u001b[0m\u001b[0;34m.\u001b[0m\u001b[0mmatch\u001b[0m\u001b[0;34m(\u001b[0m\u001b[0;34m)\u001b[0m\u001b[0;34m\u001b[0m\u001b[0;34m\u001b[0m\u001b[0m\n\u001b[0m\u001b[1;32m    317\u001b[0m \u001b[0;34m\u001b[0m\u001b[0m\n\u001b[1;32m    318\u001b[0m                         \u001b[0;31m# restore data structures\u001b[0m\u001b[0;34m\u001b[0m\u001b[0;34m\u001b[0m\u001b[0;34m\u001b[0m\u001b[0m\n",
      "\u001b[0;32m~/.local/lib/python3.8/site-packages/networkx/algorithms/isomorphism/isomorphvf2.py\u001b[0m in \u001b[0;36mmatch\u001b[0;34m(self)\u001b[0m\n\u001b[1;32m    314\u001b[0m                         \u001b[0;31m# Recursive call, adding the feasible state.\u001b[0m\u001b[0;34m\u001b[0m\u001b[0;34m\u001b[0m\u001b[0;34m\u001b[0m\u001b[0m\n\u001b[1;32m    315\u001b[0m                         \u001b[0mnewstate\u001b[0m \u001b[0;34m=\u001b[0m \u001b[0mself\u001b[0m\u001b[0;34m.\u001b[0m\u001b[0mstate\u001b[0m\u001b[0;34m.\u001b[0m\u001b[0m__class__\u001b[0m\u001b[0;34m(\u001b[0m\u001b[0mself\u001b[0m\u001b[0;34m,\u001b[0m \u001b[0mG1_node\u001b[0m\u001b[0;34m,\u001b[0m \u001b[0mG2_node\u001b[0m\u001b[0;34m)\u001b[0m\u001b[0;34m\u001b[0m\u001b[0;34m\u001b[0m\u001b[0m\n\u001b[0;32m--> 316\u001b[0;31m                         \u001b[0;32myield\u001b[0m \u001b[0;32mfrom\u001b[0m \u001b[0mself\u001b[0m\u001b[0;34m.\u001b[0m\u001b[0mmatch\u001b[0m\u001b[0;34m(\u001b[0m\u001b[0;34m)\u001b[0m\u001b[0;34m\u001b[0m\u001b[0;34m\u001b[0m\u001b[0m\n\u001b[0m\u001b[1;32m    317\u001b[0m \u001b[0;34m\u001b[0m\u001b[0m\n\u001b[1;32m    318\u001b[0m                         \u001b[0;31m# restore data structures\u001b[0m\u001b[0;34m\u001b[0m\u001b[0;34m\u001b[0m\u001b[0;34m\u001b[0m\u001b[0m\n",
      "\u001b[0;32m~/.local/lib/python3.8/site-packages/networkx/algorithms/isomorphism/isomorphvf2.py\u001b[0m in \u001b[0;36mmatch\u001b[0;34m(self)\u001b[0m\n\u001b[1;32m    314\u001b[0m                         \u001b[0;31m# Recursive call, adding the feasible state.\u001b[0m\u001b[0;34m\u001b[0m\u001b[0;34m\u001b[0m\u001b[0;34m\u001b[0m\u001b[0m\n\u001b[1;32m    315\u001b[0m                         \u001b[0mnewstate\u001b[0m \u001b[0;34m=\u001b[0m \u001b[0mself\u001b[0m\u001b[0;34m.\u001b[0m\u001b[0mstate\u001b[0m\u001b[0;34m.\u001b[0m\u001b[0m__class__\u001b[0m\u001b[0;34m(\u001b[0m\u001b[0mself\u001b[0m\u001b[0;34m,\u001b[0m \u001b[0mG1_node\u001b[0m\u001b[0;34m,\u001b[0m \u001b[0mG2_node\u001b[0m\u001b[0;34m)\u001b[0m\u001b[0;34m\u001b[0m\u001b[0;34m\u001b[0m\u001b[0m\n\u001b[0;32m--> 316\u001b[0;31m                         \u001b[0;32myield\u001b[0m \u001b[0;32mfrom\u001b[0m \u001b[0mself\u001b[0m\u001b[0;34m.\u001b[0m\u001b[0mmatch\u001b[0m\u001b[0;34m(\u001b[0m\u001b[0;34m)\u001b[0m\u001b[0;34m\u001b[0m\u001b[0;34m\u001b[0m\u001b[0m\n\u001b[0m\u001b[1;32m    317\u001b[0m \u001b[0;34m\u001b[0m\u001b[0m\n\u001b[1;32m    318\u001b[0m                         \u001b[0;31m# restore data structures\u001b[0m\u001b[0;34m\u001b[0m\u001b[0;34m\u001b[0m\u001b[0;34m\u001b[0m\u001b[0m\n",
      "\u001b[0;32m~/.local/lib/python3.8/site-packages/networkx/algorithms/isomorphism/isomorphvf2.py\u001b[0m in \u001b[0;36mmatch\u001b[0;34m(self)\u001b[0m\n\u001b[1;32m    314\u001b[0m                         \u001b[0;31m# Recursive call, adding the feasible state.\u001b[0m\u001b[0;34m\u001b[0m\u001b[0;34m\u001b[0m\u001b[0;34m\u001b[0m\u001b[0m\n\u001b[1;32m    315\u001b[0m                         \u001b[0mnewstate\u001b[0m \u001b[0;34m=\u001b[0m \u001b[0mself\u001b[0m\u001b[0;34m.\u001b[0m\u001b[0mstate\u001b[0m\u001b[0;34m.\u001b[0m\u001b[0m__class__\u001b[0m\u001b[0;34m(\u001b[0m\u001b[0mself\u001b[0m\u001b[0;34m,\u001b[0m \u001b[0mG1_node\u001b[0m\u001b[0;34m,\u001b[0m \u001b[0mG2_node\u001b[0m\u001b[0;34m)\u001b[0m\u001b[0;34m\u001b[0m\u001b[0;34m\u001b[0m\u001b[0m\n\u001b[0;32m--> 316\u001b[0;31m                         \u001b[0;32myield\u001b[0m \u001b[0;32mfrom\u001b[0m \u001b[0mself\u001b[0m\u001b[0;34m.\u001b[0m\u001b[0mmatch\u001b[0m\u001b[0;34m(\u001b[0m\u001b[0;34m)\u001b[0m\u001b[0;34m\u001b[0m\u001b[0;34m\u001b[0m\u001b[0m\n\u001b[0m\u001b[1;32m    317\u001b[0m \u001b[0;34m\u001b[0m\u001b[0m\n\u001b[1;32m    318\u001b[0m                         \u001b[0;31m# restore data structures\u001b[0m\u001b[0;34m\u001b[0m\u001b[0;34m\u001b[0m\u001b[0;34m\u001b[0m\u001b[0m\n",
      "\u001b[0;32m~/.local/lib/python3.8/site-packages/networkx/algorithms/isomorphism/isomorphvf2.py\u001b[0m in \u001b[0;36mmatch\u001b[0;34m(self)\u001b[0m\n\u001b[1;32m    314\u001b[0m                         \u001b[0;31m# Recursive call, adding the feasible state.\u001b[0m\u001b[0;34m\u001b[0m\u001b[0;34m\u001b[0m\u001b[0;34m\u001b[0m\u001b[0m\n\u001b[1;32m    315\u001b[0m                         \u001b[0mnewstate\u001b[0m \u001b[0;34m=\u001b[0m \u001b[0mself\u001b[0m\u001b[0;34m.\u001b[0m\u001b[0mstate\u001b[0m\u001b[0;34m.\u001b[0m\u001b[0m__class__\u001b[0m\u001b[0;34m(\u001b[0m\u001b[0mself\u001b[0m\u001b[0;34m,\u001b[0m \u001b[0mG1_node\u001b[0m\u001b[0;34m,\u001b[0m \u001b[0mG2_node\u001b[0m\u001b[0;34m)\u001b[0m\u001b[0;34m\u001b[0m\u001b[0;34m\u001b[0m\u001b[0m\n\u001b[0;32m--> 316\u001b[0;31m                         \u001b[0;32myield\u001b[0m \u001b[0;32mfrom\u001b[0m \u001b[0mself\u001b[0m\u001b[0;34m.\u001b[0m\u001b[0mmatch\u001b[0m\u001b[0;34m(\u001b[0m\u001b[0;34m)\u001b[0m\u001b[0;34m\u001b[0m\u001b[0;34m\u001b[0m\u001b[0m\n\u001b[0m\u001b[1;32m    317\u001b[0m \u001b[0;34m\u001b[0m\u001b[0m\n\u001b[1;32m    318\u001b[0m                         \u001b[0;31m# restore data structures\u001b[0m\u001b[0;34m\u001b[0m\u001b[0;34m\u001b[0m\u001b[0;34m\u001b[0m\u001b[0m\n",
      "\u001b[0;32m~/.local/lib/python3.8/site-packages/networkx/algorithms/isomorphism/isomorphvf2.py\u001b[0m in \u001b[0;36mmatch\u001b[0;34m(self)\u001b[0m\n\u001b[1;32m    310\u001b[0m         \u001b[0;32melse\u001b[0m\u001b[0;34m:\u001b[0m\u001b[0;34m\u001b[0m\u001b[0;34m\u001b[0m\u001b[0m\n\u001b[1;32m    311\u001b[0m             \u001b[0;32mfor\u001b[0m \u001b[0mG1_node\u001b[0m\u001b[0;34m,\u001b[0m \u001b[0mG2_node\u001b[0m \u001b[0;32min\u001b[0m \u001b[0mself\u001b[0m\u001b[0;34m.\u001b[0m\u001b[0mcandidate_pairs_iter\u001b[0m\u001b[0;34m(\u001b[0m\u001b[0;34m)\u001b[0m\u001b[0;34m:\u001b[0m\u001b[0;34m\u001b[0m\u001b[0;34m\u001b[0m\u001b[0m\n\u001b[0;32m--> 312\u001b[0;31m                 \u001b[0;32mif\u001b[0m \u001b[0mself\u001b[0m\u001b[0;34m.\u001b[0m\u001b[0msyntactic_feasibility\u001b[0m\u001b[0;34m(\u001b[0m\u001b[0mG1_node\u001b[0m\u001b[0;34m,\u001b[0m \u001b[0mG2_node\u001b[0m\u001b[0;34m)\u001b[0m\u001b[0;34m:\u001b[0m\u001b[0;34m\u001b[0m\u001b[0;34m\u001b[0m\u001b[0m\n\u001b[0m\u001b[1;32m    313\u001b[0m                     \u001b[0;32mif\u001b[0m \u001b[0mself\u001b[0m\u001b[0;34m.\u001b[0m\u001b[0msemantic_feasibility\u001b[0m\u001b[0;34m(\u001b[0m\u001b[0mG1_node\u001b[0m\u001b[0;34m,\u001b[0m \u001b[0mG2_node\u001b[0m\u001b[0;34m)\u001b[0m\u001b[0;34m:\u001b[0m\u001b[0;34m\u001b[0m\u001b[0;34m\u001b[0m\u001b[0m\n\u001b[1;32m    314\u001b[0m                         \u001b[0;31m# Recursive call, adding the feasible state.\u001b[0m\u001b[0;34m\u001b[0m\u001b[0;34m\u001b[0m\u001b[0;34m\u001b[0m\u001b[0m\n",
      "\u001b[0;32m~/.local/lib/python3.8/site-packages/networkx/algorithms/isomorphism/isomorphvf2.py\u001b[0m in \u001b[0;36msyntactic_feasibility\u001b[0;34m(self, G1_node, G2_node)\u001b[0m\n\u001b[1;32m    499\u001b[0m             \u001b[0;31m# that are neither in core_2 nor T_2^{inout}.\u001b[0m\u001b[0;34m\u001b[0m\u001b[0;34m\u001b[0m\u001b[0;34m\u001b[0m\u001b[0m\n\u001b[1;32m    500\u001b[0m             \u001b[0mnum1\u001b[0m \u001b[0;34m=\u001b[0m \u001b[0;36m0\u001b[0m\u001b[0;34m\u001b[0m\u001b[0;34m\u001b[0m\u001b[0m\n\u001b[0;32m--> 501\u001b[0;31m             \u001b[0;32mfor\u001b[0m \u001b[0mneighbor\u001b[0m \u001b[0;32min\u001b[0m \u001b[0mself\u001b[0m\u001b[0;34m.\u001b[0m\u001b[0mG1\u001b[0m\u001b[0;34m[\u001b[0m\u001b[0mG1_node\u001b[0m\u001b[0;34m]\u001b[0m\u001b[0;34m:\u001b[0m\u001b[0;34m\u001b[0m\u001b[0;34m\u001b[0m\u001b[0m\n\u001b[0m\u001b[1;32m    502\u001b[0m                 \u001b[0;32mif\u001b[0m \u001b[0mneighbor\u001b[0m \u001b[0;32mnot\u001b[0m \u001b[0;32min\u001b[0m \u001b[0mself\u001b[0m\u001b[0;34m.\u001b[0m\u001b[0minout_1\u001b[0m\u001b[0;34m:\u001b[0m\u001b[0;34m\u001b[0m\u001b[0;34m\u001b[0m\u001b[0m\n\u001b[1;32m    503\u001b[0m                     \u001b[0mnum1\u001b[0m \u001b[0;34m+=\u001b[0m \u001b[0;36m1\u001b[0m\u001b[0;34m\u001b[0m\u001b[0;34m\u001b[0m\u001b[0m\n",
      "\u001b[0;32m~/.local/lib/python3.8/site-packages/networkx/classes/graph.py\u001b[0m in \u001b[0;36m__getitem__\u001b[0;34m(self, n)\u001b[0m\n\u001b[1;32m    474\u001b[0m         \u001b[0mAtlasView\u001b[0m\u001b[0;34m(\u001b[0m\u001b[0;34m{\u001b[0m\u001b[0;36m1\u001b[0m\u001b[0;34m:\u001b[0m \u001b[0;34m{\u001b[0m\u001b[0;34m}\u001b[0m\u001b[0;34m}\u001b[0m\u001b[0;34m)\u001b[0m\u001b[0;34m\u001b[0m\u001b[0;34m\u001b[0m\u001b[0m\n\u001b[1;32m    475\u001b[0m         \"\"\"\n\u001b[0;32m--> 476\u001b[0;31m         \u001b[0;32mreturn\u001b[0m \u001b[0mself\u001b[0m\u001b[0;34m.\u001b[0m\u001b[0madj\u001b[0m\u001b[0;34m[\u001b[0m\u001b[0mn\u001b[0m\u001b[0;34m]\u001b[0m\u001b[0;34m\u001b[0m\u001b[0;34m\u001b[0m\u001b[0m\n\u001b[0m\u001b[1;32m    477\u001b[0m \u001b[0;34m\u001b[0m\u001b[0m\n\u001b[1;32m    478\u001b[0m     \u001b[0;32mdef\u001b[0m \u001b[0madd_node\u001b[0m\u001b[0;34m(\u001b[0m\u001b[0mself\u001b[0m\u001b[0;34m,\u001b[0m \u001b[0mnode_for_adding\u001b[0m\u001b[0;34m,\u001b[0m \u001b[0;34m**\u001b[0m\u001b[0mattr\u001b[0m\u001b[0;34m)\u001b[0m\u001b[0;34m:\u001b[0m\u001b[0;34m\u001b[0m\u001b[0;34m\u001b[0m\u001b[0m\n",
      "\u001b[0;31mKeyboardInterrupt\u001b[0m: "
     ]
    }
   ],
   "source": [
    "fair_opt_adult_times1000= []\n",
    "for i in range(10):\n",
    "    print(str(i))\n",
    "    start_time = timeit.default_timer()\n",
    "    synth = fairMSTOpt.MST(data, 1000, delta, outcome, admissible, protected)\n",
    "    #synth.df.to_csv(\"data/fair_opt/results_opt_\" + str(i) + \".csv\", index=False)\n",
    "    elapsed = timeit.default_timer() - start_time\n",
    "    fair_opt_adult_times1000.append(elapsed)\n",
    "print(fair_opt_adult_times1000)"
   ]
  },
  {
   "cell_type": "code",
   "execution_count": 5,
   "metadata": {},
   "outputs": [
    {
     "name": "stdout",
     "output_type": "stream",
     "text": [
      "[6637.577593938, 6813.157968849, 6797.356252063]\n"
     ]
    }
   ],
   "source": [
    "print(fair_opt_adult_times1000)"
   ]
  },
  {
   "cell_type": "code",
   "execution_count": 3,
   "metadata": {},
   "outputs": [
    {
     "name": "stdout",
     "output_type": "stream",
     "text": [
      "0\n",
      "1\n",
      "2\n",
      "3\n",
      "4\n",
      "5\n",
      "6\n",
      "7\n",
      "8\n",
      "9\n",
      "[7425.523065003, 6122.765789476, 448.4830102529995, 7815.752163006, 443.2091261429996, 417.83751367700097, 442.09474955100086, 418.3847146629996, 432.30730597500224, 454.39109104300223]\n"
     ]
    }
   ],
   "source": [
    "fair_opt_adult_times100= []\n",
    "for i in range(10):\n",
    "    print(str(i))\n",
    "    start_time = timeit.default_timer()\n",
    "    synth = fairMSTOpt.MST(data, 100, delta, outcome, admissible, protected)\n",
    "    #synth.df.to_csv(\"data/fair_opt/results_opt_\" + str(i) + \".csv\", index=False)\n",
    "    elapsed = timeit.default_timer() - start_time\n",
    "    fair_opt_adult_times100.append(elapsed)\n",
    "print(fair_opt_adult_times100)"
   ]
  },
  {
   "cell_type": "code",
   "execution_count": 9,
   "metadata": {},
   "outputs": [
    {
     "name": "stdout",
     "output_type": "stream",
     "text": [
      "0\n",
      "1\n",
      "2\n",
      "3\n",
      "4\n",
      "5\n",
      "6\n",
      "7\n",
      "8\n",
      "9\n",
      "[145.80017850900003, 139.69550369099852, 149.21022252799958, 161.15337991700108, 171.58620065300056, 153.44104480499846, 174.44673466200038, 181.84304023799996, 161.9469233689997, 195.97609018899857]\n"
     ]
    }
   ],
   "source": [
    "mst_adult_times10 = []\n",
    "for i in range(10):\n",
    "    print(str(i))\n",
    "    start_time = timeit.default_timer()\n",
    "    synth = mst.MST(data, 10, delta)\n",
    "    #synth.df.to_csv(\"data/original/results_original_\" + str(i) + \".csv\", index=False)\n",
    "    elapsed = timeit.default_timer() - start_time\n",
    "    mst_adult_times10.append(elapsed)\n",
    "print(mst_adult_times10)"
   ]
  },
  {
   "cell_type": "code",
   "execution_count": 10,
   "metadata": {},
   "outputs": [
    {
     "name": "stdout",
     "output_type": "stream",
     "text": [
      "0\n",
      "1\n",
      "2\n",
      "3\n",
      "4\n",
      "5\n",
      "6\n",
      "7\n",
      "8\n",
      "9\n",
      "[188.2113847090004, 198.02416013000038, 205.9857278089985, 207.9048749859994, 212.3861125809999, 212.52139032100058, 211.42588652000086, 162.1246642089991, 153.05837820399938, 172.73556160800035]\n"
     ]
    }
   ],
   "source": [
    "mst_adult_times1 = []\n",
    "for i in range(10):\n",
    "    print(str(i))\n",
    "    start_time = timeit.default_timer()\n",
    "    synth = mst.MST(data, 1, delta)\n",
    "    #synth.df.to_csv(\"data/original/results_original_\" + str(i) + \".csv\", index=False)\n",
    "    elapsed = timeit.default_timer() - start_time\n",
    "    mst_adult_times1.append(elapsed)\n",
    "print(mst_adult_times1)"
   ]
  },
  {
   "cell_type": "code",
   "execution_count": 11,
   "metadata": {},
   "outputs": [
    {
     "name": "stdout",
     "output_type": "stream",
     "text": [
      "0\n",
      "1\n",
      "2\n",
      "3\n",
      "4\n",
      "5\n",
      "6\n",
      "7\n",
      "8\n",
      "9\n",
      "[147.7736806720004, 135.047024427, 141.93845520099967, 139.58362263900017, 122.94265923700004, 130.26025700600076, 122.37749179200182, 123.74661494500106, 137.2774541530016, 135.90771430699897]\n"
     ]
    }
   ],
   "source": [
    "mst_adult_times01 = []\n",
    "for i in range(10):\n",
    "    print(str(i))\n",
    "    start_time = timeit.default_timer()\n",
    "    synth = mst.MST(data, 0.1, delta)\n",
    "    #synth.df.to_csv(\"data/original/results_original_\" + str(i) + \".csv\", index=False)\n",
    "    elapsed = timeit.default_timer() - start_time\n",
    "    mst_adult_times01.append(elapsed)\n",
    "print(mst_adult_times01)"
   ]
  },
  {
   "cell_type": "code",
   "execution_count": 12,
   "metadata": {},
   "outputs": [
    {
     "name": "stdout",
     "output_type": "stream",
     "text": [
      "0\n",
      "1\n",
      "2\n",
      "3\n",
      "4\n",
      "5\n",
      "6\n",
      "7\n",
      "8\n",
      "9\n",
      "[136.79602197699933, 140.61315133000244, 146.17913709300046, 141.9014242589983, 142.00703877400156, 159.46221452600003, 152.9059304600014, 144.18336160200124, 140.46153624499857, 143.26188585899945]\n"
     ]
    }
   ],
   "source": [
    "mst_adult_times100 = []\n",
    "for i in range(10):\n",
    "    print(str(i))\n",
    "    start_time = timeit.default_timer()\n",
    "    synth = mst.MST(data, 100, delta)\n",
    "    #synth.df.to_csv(\"data/original/results_original_\" + str(i) + \".csv\", index=False)\n",
    "    elapsed = timeit.default_timer() - start_time\n",
    "    mst_adult_times100.append(elapsed)\n",
    "print(mst_adult_times100)"
   ]
  },
  {
   "cell_type": "code",
   "execution_count": 13,
   "metadata": {},
   "outputs": [
    {
     "name": "stdout",
     "output_type": "stream",
     "text": [
      "0\n",
      "1\n",
      "2\n",
      "3\n",
      "4\n",
      "5\n",
      "6\n",
      "7\n",
      "8\n",
      "9\n",
      "[156.92372260100092, 160.14496154399967, 164.9611748520001, 149.8228728819995, 140.1212448869992, 156.5109765519992, 156.8525612980011, 134.39008572200328, 134.67402931900142, 171.3021954750002]\n"
     ]
    }
   ],
   "source": [
    "mst_adult_times1000 = []\n",
    "for i in range(10):\n",
    "    print(str(i))\n",
    "    start_time = timeit.default_timer()\n",
    "    synth = mst.MST(data, 1000, delta)\n",
    "    #synth.df.to_csv(\"data/original/results_original_\" + str(i) + \".csv\", index=False)\n",
    "    elapsed = timeit.default_timer() - start_time\n",
    "    mst_adult_times1000.append(elapsed)\n",
    "print(mst_adult_times1000)"
   ]
  },
  {
   "cell_type": "markdown",
   "metadata": {},
   "source": [
    "## Smaller Admis"
   ]
  },
  {
   "cell_type": "code",
   "execution_count": null,
   "metadata": {},
   "outputs": [],
   "source": [
    "admissible = ['education-num','occupation']\n",
    "protected = ['race','sex','native-country']\n",
    "data = Dataset.load(dataset, domain)"
   ]
  },
  {
   "cell_type": "code",
   "execution_count": null,
   "metadata": {},
   "outputs": [],
   "source": [
    "\n",
    "fair_greedy_adult_times_small10= []\n",
    "for i in range(10):\n",
    "    print(str(i))\n",
    "    start_time = timeit.default_timer()\n",
    "    synth = fairMST.MST(data, 10, delta, outcome, admissible)\n",
    "    #synth.df.to_csv(\"data/fair_greedy/results_greedy_\" + str(i) + \".csv\", index=False)\n",
    "    elapsed = timeit.default_timer() - start_time\n",
    "    fair_greedy_adult_times_small10.append(elapsed)"
   ]
  },
  {
   "cell_type": "code",
   "execution_count": null,
   "metadata": {},
   "outputs": [],
   "source": [
    "\n",
    "fair_greedy_adult_times_small1= []\n",
    "for i in range(10):\n",
    "    print(str(i))\n",
    "    start_time = timeit.default_timer()\n",
    "    synth = fairMST.MST(data,1, delta, outcome, admissible)\n",
    "    #synth.df.to_csv(\"data/fair_greedy/results_greedy_\" + str(i) + \".csv\", index=False)\n",
    "    elapsed = timeit.default_timer() - start_time\n",
    "    fair_greedy_adult_times_small1.append(elapsed)"
   ]
  },
  {
   "cell_type": "code",
   "execution_count": null,
   "metadata": {},
   "outputs": [],
   "source": [
    "\n",
    "fair_greedy_adult_times_small01= []\n",
    "for i in range(10):\n",
    "    print(str(i))\n",
    "    start_time = timeit.default_timer()\n",
    "    synth = fairMST.MST(data, 0.1, delta, outcome, admissible)\n",
    "    #synth.df.to_csv(\"data/fair_greedy/results_greedy_\" + str(i) + \".csv\", index=False)\n",
    "    elapsed = timeit.default_timer() - start_time\n",
    "    fair_greedy_adult_times_small01.append(elapsed)"
   ]
  },
  {
   "cell_type": "code",
   "execution_count": null,
   "metadata": {},
   "outputs": [],
   "source": [
    "fair_opt_adult_times_small10= []\n",
    "for i in range(10):\n",
    "    print(str(i))\n",
    "    start_time = timeit.default_timer()\n",
    "    synth = fairMSTOpt.MST(data, 10, delta, outcome, admissible, protected)\n",
    "    #synth.df.to_csv(\"data/fair_opt/results_opt_\" + str(i) + \".csv\", index=False)\n",
    "    elapsed = timeit.default_timer() - start_time\n",
    "    fair_opt_adult_times_small10.append(elapsed)"
   ]
  },
  {
   "cell_type": "code",
   "execution_count": null,
   "metadata": {},
   "outputs": [],
   "source": [
    "fair_opt_adult_times_small1= []\n",
    "for i in range(10):\n",
    "    print(str(i))\n",
    "    start_time = timeit.default_timer()\n",
    "    synth = fairMSTOpt.MST(data, 1, delta, outcome, admissible, protected)\n",
    "    #synth.df.to_csv(\"data/fair_opt/results_opt_\" + str(i) + \".csv\", index=False)\n",
    "    elapsed = timeit.default_timer() - start_time\n",
    "    fair_opt_adult_times_small1.append(elapsed)"
   ]
  },
  {
   "cell_type": "code",
   "execution_count": null,
   "metadata": {},
   "outputs": [],
   "source": [
    "fair_opt_adult_times_small01= []\n",
    "for i in range(10):\n",
    "    print(str(i))\n",
    "    start_time = timeit.default_timer()\n",
    "    synth = fairMSTOpt.MST(data, 0.1, delta, outcome, admissible, protected)\n",
    "    #synth.df.to_csv(\"data/fair_opt/results_opt_\" + str(i) + \".csv\", index=False)\n",
    "    elapsed = timeit.default_timer() - start_time\n",
    "    fair_opt_adult_times_small01.append(elapsed)"
   ]
  },
  {
   "cell_type": "code",
   "execution_count": null,
   "metadata": {},
   "outputs": [],
   "source": [
    "mst_adult_times_small10 = []\n",
    "for i in range(10):\n",
    "    print(str(i))\n",
    "    start_time = timeit.default_timer()\n",
    "    synth = mst.MST(data, 10, delta)\n",
    "    #synth.df.to_csv(\"data/original/results_original_\" + str(i) + \".csv\", index=False)\n",
    "    elapsed = timeit.default_timer() - start_time\n",
    "    mst_adult_times_small10.append(elapsed)"
   ]
  },
  {
   "cell_type": "code",
   "execution_count": null,
   "metadata": {},
   "outputs": [],
   "source": [
    "mst_adult_times_small1 = []\n",
    "for i in range(10):\n",
    "    print(str(i))\n",
    "    start_time = timeit.default_timer()\n",
    "    synth = mst.MST(data, 1, delta)\n",
    "    #synth.df.to_csv(\"data/original/results_original_\" + str(i) + \".csv\", index=False)\n",
    "    elapsed = timeit.default_timer() - start_time\n",
    "    mst_adult_times_small1.append(elapsed)"
   ]
  },
  {
   "cell_type": "code",
   "execution_count": null,
   "metadata": {},
   "outputs": [],
   "source": [
    "mst_adult_times_small01 = []\n",
    "for i in range(10):\n",
    "    print(str(i))\n",
    "    start_time = timeit.default_timer()\n",
    "    synth = mst.MST(data, 0.1, delta)\n",
    "    #synth.df.to_csv(\"data/original/results_original_\" + str(i) + \".csv\", index=False)\n",
    "    elapsed = timeit.default_timer() - start_time\n",
    "    mst_adult_times_small01.append(elapsed)"
   ]
  },
  {
   "cell_type": "markdown",
   "metadata": {},
   "source": [
    "## Compas"
   ]
  },
  {
   "cell_type": "code",
   "execution_count": 20,
   "metadata": {},
   "outputs": [],
   "source": [
    "\n",
    "dataset = \"data/cleaned_Compas.csv\"\n",
    "domain = \"data/cleanded_Compas-domain.json\"\n",
    "admissible = ['Misdemeanor','Number_of_Priors']\n",
    "protected = ['Sex','Race']\n",
    "outcome = ['Two_yr_Recidivism']\n",
    "data = Dataset.load(dataset, domain)"
   ]
  },
  {
   "cell_type": "code",
   "execution_count": null,
   "metadata": {},
   "outputs": [],
   "source": [
    "\n",
    "fair_greedy_adult_times_compas10= []\n",
    "for i in range(10):\n",
    "    print(str(i))\n",
    "    start_time = timeit.default_timer()\n",
    "    synth = fairMST.MST(data, 10, delta, outcome, admissible)\n",
    "    #synth.df.to_csv(\"data/fair_greedy/results_greedy_\" + str(i) + \".csv\", index=False)\n",
    "    elapsed = timeit.default_timer() - start_time\n",
    "    fair_greedy_adult_times_compas10.append(elapsed)"
   ]
  },
  {
   "cell_type": "code",
   "execution_count": 21,
   "metadata": {},
   "outputs": [
    {
     "name": "stdout",
     "output_type": "stream",
     "text": [
      "0\n",
      "1\n",
      "2\n",
      "3\n",
      "4\n",
      "5\n",
      "6\n",
      "7\n",
      "8\n",
      "9\n",
      "[71.89930995099712, 77.61293670296436, 75.01399767299881, 70.97692023898708, 74.97912407497643, 71.61850200704066, 75.56107703899033, 75.67180527100572, 73.66242839797633, 76.28192502900492]\n"
     ]
    }
   ],
   "source": [
    "\n",
    "fair_greedy_adult_times_compas1= []\n",
    "for i in range(10):\n",
    "    print(str(i))\n",
    "    start_time = timeit.default_timer()\n",
    "    synth = fairMST.MST(data,1, delta, outcome, admissible)\n",
    "    #synth.df.to_csv(\"data/fair_greedy/results_greedy_\" + str(i) + \".csv\", index=False)\n",
    "    elapsed = timeit.default_timer() - start_time\n",
    "    fair_greedy_adult_times_compas1.append(elapsed)\n",
    "\n",
    "print(fair_greedy_adult_times_compas1)"
   ]
  },
  {
   "cell_type": "code",
   "execution_count": null,
   "metadata": {},
   "outputs": [],
   "source": [
    "\n",
    "fair_greedy_adult_times_compas01= []\n",
    "for i in range(10):\n",
    "    print(str(i))\n",
    "    start_time = timeit.default_timer()\n",
    "    synth = fairMST.MST(data, 0.1, delta, outcome, admissible)\n",
    "    #synth.df.to_csv(\"data/fair_greedy/results_greedy_\" + str(i) + \".csv\", index=False)\n",
    "    elapsed = timeit.default_timer() - start_time\n",
    "    fair_greedy_adult_times_compas01.append(elapsed)"
   ]
  },
  {
   "cell_type": "code",
   "execution_count": null,
   "metadata": {},
   "outputs": [],
   "source": [
    "fair_opt_adult_times_small10= []\n",
    "for i in range(10):\n",
    "    print(str(i))\n",
    "    start_time = timeit.default_timer()\n",
    "    synth = fairMSTOpt.MST(data, 10, delta, outcome, admissible, protected)\n",
    "    #synth.df.to_csv(\"data/fair_opt/results_opt_\" + str(i) + \".csv\", index=False)\n",
    "    elapsed = timeit.default_timer() - start_time\n",
    "    fair_opt_adult_times_small10.append(elapsed)"
   ]
  },
  {
   "cell_type": "code",
   "execution_count": null,
   "metadata": {},
   "outputs": [],
   "source": [
    "fair_opt_adult_times_compas1= []\n",
    "for i in range(10):\n",
    "    print(str(i))\n",
    "    start_time = timeit.default_timer()\n",
    "    synth = fairMSTOpt.MST(data, 1, delta, outcome, admissible, protected)\n",
    "    #synth.df.to_csv(\"data/fair_opt/results_opt_\" + str(i) + \".csv\", index=False)\n",
    "    elapsed = timeit.default_timer() - start_time\n",
    "    fair_opt_adult_times_compas1.append(elapsed)"
   ]
  },
  {
   "cell_type": "code",
   "execution_count": null,
   "metadata": {},
   "outputs": [],
   "source": [
    "fair_opt_adult_times_compas01= []\n",
    "for i in range(10):\n",
    "    print(str(i))\n",
    "    start_time = timeit.default_timer()\n",
    "    synth = fairMSTOpt.MST(data, 0.1, delta, outcome, admissible, protected)\n",
    "    #synth.df.to_csv(\"data/fair_opt/results_opt_\" + str(i) + \".csv\", index=False)\n",
    "    elapsed = timeit.default_timer() - start_time\n",
    "    fair_opt_adult_times_compas01.append(elapsed)"
   ]
  },
  {
   "cell_type": "code",
   "execution_count": null,
   "metadata": {},
   "outputs": [],
   "source": [
    "mst_adult_times_compas10 = []\n",
    "for i in range(10):\n",
    "    print(str(i))\n",
    "    start_time = timeit.default_timer()\n",
    "    synth = mst.MST(data, 10, delta)\n",
    "    #synth.df.to_csv(\"data/original/results_original_\" + str(i) + \".csv\", index=False)\n",
    "    elapsed = timeit.default_timer() - start_time\n",
    "    mst_adult_times_compas10.append(elapsed)"
   ]
  },
  {
   "cell_type": "code",
   "execution_count": 22,
   "metadata": {},
   "outputs": [
    {
     "name": "stdout",
     "output_type": "stream",
     "text": [
      "0\n",
      "1\n",
      "2\n",
      "3\n",
      "4\n",
      "5\n",
      "6\n",
      "7\n",
      "8\n",
      "9\n",
      "[76.3417847030214, 75.81159630499315, 76.06947568600299, 76.27165862702532, 75.95898043300258, 75.91101439803606, 76.60570637404453, 73.47383972804528, 76.67854331899434, 76.78013724205084]\n"
     ]
    }
   ],
   "source": [
    "mst_adult_times_compas1 = []\n",
    "for i in range(10):\n",
    "    print(str(i))\n",
    "    start_time = timeit.default_timer()\n",
    "    synth = mst.MST(data, 1, delta)\n",
    "    #synth.df.to_csv(\"data/original/results_original_\" + str(i) + \".csv\", index=False)\n",
    "    elapsed = timeit.default_timer() - start_time\n",
    "    mst_adult_times_compas1.append(elapsed)\n",
    "print(mst_adult_times_compas1)"
   ]
  },
  {
   "cell_type": "code",
   "execution_count": null,
   "metadata": {},
   "outputs": [],
   "source": [
    "mst_adult_times_compas01 = []\n",
    "for i in range(10):\n",
    "    print(str(i))\n",
    "    start_time = timeit.default_timer()\n",
    "    synth = mst.MST(data, 0.1, delta)\n",
    "    #synth.df.to_csv(\"data/original/results_original_\" + str(i) + \".csv\", index=False)\n",
    "    elapsed = timeit.default_timer() - start_time\n",
    "    mst_adult_times_compas01.append(elapsed)"
   ]
  },
  {
   "cell_type": "code",
   "execution_count": 12,
   "metadata": {},
   "outputs": [
    {
     "name": "stdout",
     "output_type": "stream",
     "text": [
      "1\n"
     ]
    }
   ],
   "source": [
    "p = 0.3\n",
    "x = scipy.stats.bernoulli.rvs(p, size=1)\n",
    "print(x[0])"
   ]
  },
  {
   "cell_type": "markdown",
   "metadata": {},
   "source": [
    "# KDD dataset"
   ]
  },
  {
   "cell_type": "code",
   "execution_count": 10,
   "metadata": {},
   "outputs": [],
   "source": [
    "delta = 1e-9\n",
    "delta = 1e-9\n",
    "degree = 2 \n",
    "num_marginals = None\n",
    "max_cells = 10000\n",
    "\n",
    "dataset = \"data/cleaned_KDD.csv\"\n",
    "domain = \"data/cleanded_KDD-domain.json\"\n",
    "admissible = ['age','class_worker','det_ind_code','det_occ_code','education','wage_per_hour','hs_college','marital_stat','major_ind_code','major_occ_code','hisp_origin','union_member','unemp_reason','full_or_part_emp', 'capital_gains','capital_losses','stock_dividends','tax_filer_stat','region_prev_res','state_prev_res','det_hh_fam_stat','det_hh_summ','unknown','mig_chg_msa','mig_chg_reg','mig_move_reg','mig_same','mig_prev_sunbelt','num_emp','fam_under_18','country_father','country_mother','country_self','citizenship','own_or_self','vet_question','vet_benefits','weeks_worked','year']\n",
    "protected = ['race','sex']\n",
    "outcome = ['income_50k']\n",
    "data = Dataset.load(dataset, domain)"
   ]
  },
  {
   "cell_type": "code",
   "execution_count": 11,
   "metadata": {},
   "outputs": [
    {
     "name": "stdout",
     "output_type": "stream",
     "text": [
      "10\n",
      "0\n",
      "1\n",
      "2\n",
      "3\n",
      "4\n",
      "5\n",
      "6\n",
      "7\n",
      "8\n",
      "9\n",
      "1\n",
      "0\n",
      "1\n",
      "2\n",
      "3\n",
      "4\n",
      "5\n",
      "6\n",
      "7\n",
      "8\n",
      "9\n",
      "0.1\n",
      "0\n",
      "1\n",
      "2\n",
      "3\n",
      "4\n",
      "5\n",
      "6\n",
      "7\n",
      "8\n",
      "9\n"
     ]
    }
   ],
   "source": [
    "eps = [10,1,0.1]\n",
    "for e in eps:\n",
    "    print(str(e))\n",
    "    for i in range(10):\n",
    "        synth = fairMST.MST(data, e, delta, outcome, admissible)\n",
    "        synth.df.to_csv(\"data/fair_greedy/KDD/eps=\" +str(e)+\"/results_greedy_\" + str(i) + \".csv\", index=False)\n",
    "        synth = mst.MST(data, e, delta)\n",
    "        synth.df.to_csv(\"data/original/KDD/eps=\" +str(e)+\"/results_original_\" + str(i) + \".csv\", index=False)\n",
    "        print(i)\n"
   ]
  },
  {
   "cell_type": "markdown",
   "metadata": {},
   "source": [
    "# KDD Timing\n"
   ]
  },
  {
   "cell_type": "code",
   "execution_count": 12,
   "metadata": {},
   "outputs": [
    {
     "name": "stdout",
     "output_type": "stream",
     "text": [
      "0\n",
      "1\n",
      "2\n",
      "3\n",
      "4\n",
      "5\n",
      "6\n",
      "7\n",
      "8\n",
      "9\n",
      "[401.96726351800316, 478.6330233320041, 472.11514911599807, 472.88426063398947, 465.1650229359948, 484.35546018200694, 474.82494554200093, 461.3767029540031, 464.5621049860056, 464.9241725039901]\n"
     ]
    }
   ],
   "source": [
    "\n",
    "fair_greedy_adult_times_KDD10= []\n",
    "for i in range(10):\n",
    "    print(str(i))\n",
    "    start_time = timeit.default_timer()\n",
    "    synth = fairMST.MST(data, 10, delta, outcome, admissible)\n",
    "    #synth.df.to_csv(\"data/fair_greedy/results_greedy_\" + str(i) + \".csv\", index=False)\n",
    "    elapsed = timeit.default_timer() - start_time\n",
    "    fair_greedy_adult_times_KDD10.append(elapsed)\n",
    "\n",
    "print(fair_greedy_adult_times_KDD10)"
   ]
  },
  {
   "cell_type": "code",
   "execution_count": 14,
   "metadata": {},
   "outputs": [
    {
     "name": "stdout",
     "output_type": "stream",
     "text": [
      "0\n",
      "1\n",
      "2\n",
      "3\n",
      "4\n",
      "5\n",
      "6\n",
      "7\n",
      "8\n",
      "9\n",
      "[418.1049694559915, 434.814901567006, 440.23468023400346, 456.74184287500975, 445.13064547900285, 451.9480824830098, 453.9571228910063, 444.496403637997, 446.2246601700026, 449.8132188430027]\n"
     ]
    }
   ],
   "source": [
    "\n",
    "fair_greedy_adult_times_KDD1= []\n",
    "for i in range(10):\n",
    "    print(str(i))\n",
    "    start_time = timeit.default_timer()\n",
    "    synth = fairMST.MST(data,1, delta, outcome, admissible)\n",
    "    #synth.df.to_csv(\"data/fair_greedy/results_greedy_\" + str(i) + \".csv\", index=False)\n",
    "    elapsed = timeit.default_timer() - start_time\n",
    "    fair_greedy_adult_times_KDD1.append(elapsed)\n",
    "print(fair_greedy_adult_times_KDD1)"
   ]
  },
  {
   "cell_type": "code",
   "execution_count": 15,
   "metadata": {},
   "outputs": [
    {
     "name": "stdout",
     "output_type": "stream",
     "text": [
      "0\n",
      "1\n",
      "2\n",
      "3\n",
      "4\n",
      "5\n",
      "6\n",
      "7\n",
      "8\n",
      "9\n",
      "[564.1048684909765, 524.2504519509966, 527.3878363190161, 548.0244833499892, 514.6405399760115, 539.5298188939923, 547.6553871179931, 566.2478995089768, 510.5129596129991, 516.5536537879962]\n"
     ]
    }
   ],
   "source": [
    "\n",
    "fair_greedy_adult_times_KDD01= []\n",
    "for i in range(10):\n",
    "    print(str(i))\n",
    "    start_time = timeit.default_timer()\n",
    "    synth = fairMST.MST(data, 0.1, delta, outcome, admissible)\n",
    "    #synth.df.to_csv(\"data/fair_greedy/results_greedy_\" + str(i) + \".csv\", index=False)\n",
    "    elapsed = timeit.default_timer() - start_time\n",
    "    fair_greedy_adult_times_KDD01.append(elapsed)\n",
    "print(fair_greedy_adult_times_KDD01)"
   ]
  },
  {
   "cell_type": "code",
   "execution_count": 16,
   "metadata": {},
   "outputs": [
    {
     "name": "stdout",
     "output_type": "stream",
     "text": [
      "0\n",
      "1\n",
      "2\n",
      "3\n",
      "4\n",
      "5\n",
      "6\n",
      "7\n",
      "8\n",
      "9\n",
      "[406.3444576819893, 421.63963049900485, 417.11325825797394, 425.2309247759986, 422.5558614099864, 421.1016034630011, 418.2692585499899, 431.47393345899764, 433.071168495022, 423.27310167698306]\n"
     ]
    }
   ],
   "source": [
    "mst_adult_times_KDD10 = []\n",
    "for i in range(10):\n",
    "    print(str(i))\n",
    "    start_time = timeit.default_timer()\n",
    "    synth = mst.MST(data, 10, delta)\n",
    "    #synth.df.to_csv(\"data/original/results_original_\" + str(i) + \".csv\", index=False)\n",
    "    elapsed = timeit.default_timer() - start_time\n",
    "    mst_adult_times_KDD10.append(elapsed)\n",
    "print(mst_adult_times_KDD10)"
   ]
  },
  {
   "cell_type": "code",
   "execution_count": 18,
   "metadata": {},
   "outputs": [
    {
     "name": "stdout",
     "output_type": "stream",
     "text": [
      "0\n",
      "1\n",
      "2\n",
      "3\n",
      "4\n",
      "5\n",
      "6\n",
      "7\n",
      "8\n",
      "9\n",
      "[470.9472916969971, 484.9027877660119, 493.82846953201806, 472.50624610399245, 482.53425256398623, 480.05761338199954, 484.9207532389846, 478.337113918009, 493.2337973669928, 442.34391242900165]\n"
     ]
    }
   ],
   "source": [
    "mst_adult_times_KDD1 = []\n",
    "for i in range(10):\n",
    "    print(str(i))\n",
    "    start_time = timeit.default_timer()\n",
    "    synth = mst.MST(data, 1, delta)\n",
    "    #synth.df.to_csv(\"data/original/results_original_\" + str(i) + \".csv\", index=False)\n",
    "    elapsed = timeit.default_timer() - start_time\n",
    "    mst_adult_times_KDD1.append(elapsed)\n",
    "print(mst_adult_times_KDD1)"
   ]
  },
  {
   "cell_type": "code",
   "execution_count": 19,
   "metadata": {},
   "outputs": [
    {
     "name": "stdout",
     "output_type": "stream",
     "text": [
      "0\n",
      "1\n",
      "2\n",
      "3\n",
      "4\n",
      "5\n",
      "6\n",
      "7\n",
      "8\n",
      "9\n",
      "[432.13935321298777, 449.60822906999965, 556.3908512299822, 537.3422294720076, 491.5021447270119, 520.1693237930012, 495.78481124699465, 490.2819970700075, 534.9495899100148, 531.9331634860137]\n"
     ]
    }
   ],
   "source": [
    "mst_adult_times_KDD01 = []\n",
    "for i in range(10):\n",
    "    print(str(i))\n",
    "    start_time = timeit.default_timer()\n",
    "    synth = mst.MST(data, 0.1, delta)\n",
    "    #synth.df.to_csv(\"data/original/results_original_\" + str(i) + \".csv\", index=False)\n",
    "    elapsed = timeit.default_timer() - start_time\n",
    "    mst_adult_times_KDD01.append(elapsed)\n",
    "print(mst_adult_times_KDD01)"
   ]
  },
  {
   "cell_type": "code",
   "execution_count": null,
   "metadata": {},
   "outputs": [],
   "source": []
  }
 ],
 "metadata": {
  "kernelspec": {
   "display_name": "Python 3",
   "language": "python",
   "name": "python3"
  },
  "language_info": {
   "codemirror_mode": {
    "name": "ipython",
    "version": 3
   },
   "file_extension": ".py",
   "mimetype": "text/x-python",
   "name": "python",
   "nbconvert_exporter": "python",
   "pygments_lexer": "ipython3",
   "version": "3.8.10"
  }
 },
 "nbformat": 4,
 "nbformat_minor": 4
}
